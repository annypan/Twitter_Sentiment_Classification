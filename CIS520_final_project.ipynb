{
  "nbformat": 4,
  "nbformat_minor": 0,
  "metadata": {
    "accelerator": "GPU",
    "colab": {
      "name": "CIS520_final_project.ipynb",
      "provenance": [],
      "collapsed_sections": [],
      "toc_visible": true
    },
    "kernelspec": {
      "display_name": "Python 3",
      "name": "python3"
    }
  },
  "cells": [
    {
      "cell_type": "markdown",
      "metadata": {
        "id": "18R74t4cTYlR"
      },
      "source": [
        "# Downloads and setups"
      ]
    },
    {
      "cell_type": "code",
      "metadata": {
        "colab": {
          "base_uri": "https://localhost:8080/"
        },
        "id": "3npV6ipS2x1d",
        "outputId": "4b9fdc7a-d438-4ef3-fbaf-c1f8e2dcae55"
      },
      "source": [
        "import pandas as pd\n",
        "import numpy as np\n",
        "import nltk\n",
        "nltk.download('punkt')\n",
        "from nltk.tokenize import word_tokenize\n",
        "from nltk.corpus import stopwords as sw\n",
        "from wordcloud import WordCloud\n",
        "import matplotlib.pyplot as plt\n",
        "%matplotlib inline\n",
        "import wordcloud\n",
        "import seaborn as sns\n",
        "sns.set_theme(style=\"whitegrid\")"
      ],
      "execution_count": null,
      "outputs": [
        {
          "output_type": "stream",
          "text": [
            "[nltk_data] Downloading package punkt to /root/nltk_data...\n",
            "[nltk_data]   Unzipping tokenizers/punkt.zip.\n"
          ],
          "name": "stdout"
        }
      ]
    },
    {
      "cell_type": "code",
      "metadata": {
        "id": "NLVKm8rX_8Jp",
        "colab": {
          "base_uri": "https://localhost:8080/"
        },
        "outputId": "bf598b02-7194-4617-cea6-85ec7536efc9"
      },
      "source": [
        "from google_drive_downloader import GoogleDriveDownloader as gdd\n",
        "\n",
        "gdd.download_file_from_google_drive(file_id='1irBkqE5eiRHkTZG4wLlP9FiYMEdtsV86',\n",
        "                                    dest_path='/content/train.csv')\n",
        "gdd.download_file_from_google_drive(file_id='1HKCDuGxZ976qrr27EDyG9_MV5OYoa_bK',\n",
        "                                    dest_path='/content/test.csv')"
      ],
      "execution_count": null,
      "outputs": [
        {
          "output_type": "stream",
          "text": [
            "Downloading 1irBkqE5eiRHkTZG4wLlP9FiYMEdtsV86 into /content/train.csv... Done.\n",
            "Downloading 1HKCDuGxZ976qrr27EDyG9_MV5OYoa_bK into /content/test.csv... Done.\n"
          ],
          "name": "stdout"
        }
      ]
    },
    {
      "cell_type": "code",
      "metadata": {
        "id": "Jr7uaMk-_8zK"
      },
      "source": [
        "train_df = pd.read_csv('/content/train.csv', encoding = 'latin-1', header = None)\n",
        "test_df = pd.read_csv('/content/test.csv', encoding = 'latin-1', header = None)"
      ],
      "execution_count": null,
      "outputs": []
    },
    {
      "cell_type": "markdown",
      "metadata": {
        "id": "ZY3GBaFQThxX"
      },
      "source": [
        "# Data Cleaning, Stopword Processing and Tokenizing"
      ]
    },
    {
      "cell_type": "markdown",
      "metadata": {
        "id": "0ytS6LrWxsrB"
      },
      "source": [
        "The dataset with 1,600,000 data points is far too large to process, so we select a balanced subset of 100,000 data points."
      ]
    },
    {
      "cell_type": "code",
      "metadata": {
        "colab": {
          "base_uri": "https://localhost:8080/",
          "height": 204
        },
        "id": "UTX-Ptuk2DTu",
        "outputId": "cb39cf46-c687-436a-d1a9-46aab3633808"
      },
      "source": [
        "# Get rid of the columns that we won't use. \n",
        "train_df = train_df.drop(train_df.columns[[1, 2, 3, 4]],axis=1)\n",
        "train_df.rename(columns={train_df.columns[0]: \"label\", train_df.columns[1]: \"text\"}, inplace=True)\n",
        "\n",
        "# Convert the labels into 0/1 in order to better fit the format of binary classification. \n",
        "# 0 means negative and 4 means positive. \n",
        "train_df['label'] = train_df['label'].apply(lambda x : (int)(x / 4))\n",
        "train_df.head()"
      ],
      "execution_count": null,
      "outputs": [
        {
          "output_type": "execute_result",
          "data": {
            "text/html": [
              "<div>\n",
              "<style scoped>\n",
              "    .dataframe tbody tr th:only-of-type {\n",
              "        vertical-align: middle;\n",
              "    }\n",
              "\n",
              "    .dataframe tbody tr th {\n",
              "        vertical-align: top;\n",
              "    }\n",
              "\n",
              "    .dataframe thead th {\n",
              "        text-align: right;\n",
              "    }\n",
              "</style>\n",
              "<table border=\"1\" class=\"dataframe\">\n",
              "  <thead>\n",
              "    <tr style=\"text-align: right;\">\n",
              "      <th></th>\n",
              "      <th>label</th>\n",
              "      <th>text</th>\n",
              "    </tr>\n",
              "  </thead>\n",
              "  <tbody>\n",
              "    <tr>\n",
              "      <th>0</th>\n",
              "      <td>0</td>\n",
              "      <td>@switchfoot http://twitpic.com/2y1zl - Awww, t...</td>\n",
              "    </tr>\n",
              "    <tr>\n",
              "      <th>1</th>\n",
              "      <td>0</td>\n",
              "      <td>is upset that he can't update his Facebook by ...</td>\n",
              "    </tr>\n",
              "    <tr>\n",
              "      <th>2</th>\n",
              "      <td>0</td>\n",
              "      <td>@Kenichan I dived many times for the ball. Man...</td>\n",
              "    </tr>\n",
              "    <tr>\n",
              "      <th>3</th>\n",
              "      <td>0</td>\n",
              "      <td>my whole body feels itchy and like its on fire</td>\n",
              "    </tr>\n",
              "    <tr>\n",
              "      <th>4</th>\n",
              "      <td>0</td>\n",
              "      <td>@nationwideclass no, it's not behaving at all....</td>\n",
              "    </tr>\n",
              "  </tbody>\n",
              "</table>\n",
              "</div>"
            ],
            "text/plain": [
              "   label                                               text\n",
              "0      0  @switchfoot http://twitpic.com/2y1zl - Awww, t...\n",
              "1      0  is upset that he can't update his Facebook by ...\n",
              "2      0  @Kenichan I dived many times for the ball. Man...\n",
              "3      0    my whole body feels itchy and like its on fire \n",
              "4      0  @nationwideclass no, it's not behaving at all...."
            ]
          },
          "metadata": {
            "tags": []
          },
          "execution_count": 4
        }
      ]
    },
    {
      "cell_type": "code",
      "metadata": {
        "id": "y5H3N8l2vjmh",
        "colab": {
          "base_uri": "https://localhost:8080/",
          "height": 238
        },
        "outputId": "4b623f50-ba88-4193-9bc8-8709e2e5c697"
      },
      "source": [
        "train_selected = train_df[750000:850000]\n",
        "num_0 = 0\n",
        "num_1 = 0\n",
        "for i in range(len(train_selected)):\n",
        "  if train_selected.iloc[i, 0] == 0:\n",
        "    num_0 = num_0 + 1\n",
        "  if train_selected.iloc[i, 0] == 1:\n",
        "    num_1 = num_1 + 1\n",
        "print(num_0)\n",
        "print(num_1)\n",
        "train_selected = train_selected.reset_index(drop=True)\n",
        "train_selected.head()"
      ],
      "execution_count": null,
      "outputs": [
        {
          "output_type": "stream",
          "text": [
            "50000\n",
            "50000\n"
          ],
          "name": "stdout"
        },
        {
          "output_type": "execute_result",
          "data": {
            "text/html": [
              "<div>\n",
              "<style scoped>\n",
              "    .dataframe tbody tr th:only-of-type {\n",
              "        vertical-align: middle;\n",
              "    }\n",
              "\n",
              "    .dataframe tbody tr th {\n",
              "        vertical-align: top;\n",
              "    }\n",
              "\n",
              "    .dataframe thead th {\n",
              "        text-align: right;\n",
              "    }\n",
              "</style>\n",
              "<table border=\"1\" class=\"dataframe\">\n",
              "  <thead>\n",
              "    <tr style=\"text-align: right;\">\n",
              "      <th></th>\n",
              "      <th>label</th>\n",
              "      <th>text</th>\n",
              "    </tr>\n",
              "  </thead>\n",
              "  <tbody>\n",
              "    <tr>\n",
              "      <th>0</th>\n",
              "      <td>0</td>\n",
              "      <td>@Opotopo small slip on Tryfan few weeks back, ...</td>\n",
              "    </tr>\n",
              "    <tr>\n",
              "      <th>1</th>\n",
              "      <td>0</td>\n",
              "      <td>@Idristwilight You can post HAN when you want....</td>\n",
              "    </tr>\n",
              "    <tr>\n",
              "      <th>2</th>\n",
              "      <td>0</td>\n",
              "      <td>@rose_7 Ohh poor jan  please tell her that if ...</td>\n",
              "    </tr>\n",
              "    <tr>\n",
              "      <th>3</th>\n",
              "      <td>0</td>\n",
              "      <td>Finally home from work...It was a looong day!!...</td>\n",
              "    </tr>\n",
              "    <tr>\n",
              "      <th>4</th>\n",
              "      <td>0</td>\n",
              "      <td>im very sad 4 chantelle and tom</td>\n",
              "    </tr>\n",
              "  </tbody>\n",
              "</table>\n",
              "</div>"
            ],
            "text/plain": [
              "   label                                               text\n",
              "0      0  @Opotopo small slip on Tryfan few weeks back, ...\n",
              "1      0  @Idristwilight You can post HAN when you want....\n",
              "2      0  @rose_7 Ohh poor jan  please tell her that if ...\n",
              "3      0  Finally home from work...It was a looong day!!...\n",
              "4      0                   im very sad 4 chantelle and tom "
            ]
          },
          "metadata": {
            "tags": []
          },
          "execution_count": 5
        }
      ]
    },
    {
      "cell_type": "code",
      "metadata": {
        "id": "WgaXBON2iycf",
        "colab": {
          "base_uri": "https://localhost:8080/",
          "height": 238
        },
        "outputId": "0ed9acad-0f6d-48b4-b52f-39a6ef75e632"
      },
      "source": [
        "test_selected_1 = train_df[:10000]\n",
        "test_selected_2 = train_df[1590000:]\n",
        "test_selected = test_selected_1.append(test_selected_2)\n",
        "num_0 = 0\n",
        "num_1 = 0\n",
        "for i in range(len(test_selected)):\n",
        "  if test_selected.iloc[i, 0] == 0:\n",
        "    num_0 = num_0 + 1\n",
        "  if test_selected.iloc[i, 0] == 1:\n",
        "    num_1 = num_1 + 1\n",
        "print(num_0)\n",
        "print(num_1)\n",
        "test_selected = test_selected.reset_index(drop=True)\n",
        "test_selected.head()"
      ],
      "execution_count": null,
      "outputs": [
        {
          "output_type": "stream",
          "text": [
            "10000\n",
            "10000\n"
          ],
          "name": "stdout"
        },
        {
          "output_type": "execute_result",
          "data": {
            "text/html": [
              "<div>\n",
              "<style scoped>\n",
              "    .dataframe tbody tr th:only-of-type {\n",
              "        vertical-align: middle;\n",
              "    }\n",
              "\n",
              "    .dataframe tbody tr th {\n",
              "        vertical-align: top;\n",
              "    }\n",
              "\n",
              "    .dataframe thead th {\n",
              "        text-align: right;\n",
              "    }\n",
              "</style>\n",
              "<table border=\"1\" class=\"dataframe\">\n",
              "  <thead>\n",
              "    <tr style=\"text-align: right;\">\n",
              "      <th></th>\n",
              "      <th>label</th>\n",
              "      <th>text</th>\n",
              "    </tr>\n",
              "  </thead>\n",
              "  <tbody>\n",
              "    <tr>\n",
              "      <th>0</th>\n",
              "      <td>0</td>\n",
              "      <td>@switchfoot http://twitpic.com/2y1zl - Awww, t...</td>\n",
              "    </tr>\n",
              "    <tr>\n",
              "      <th>1</th>\n",
              "      <td>0</td>\n",
              "      <td>is upset that he can't update his Facebook by ...</td>\n",
              "    </tr>\n",
              "    <tr>\n",
              "      <th>2</th>\n",
              "      <td>0</td>\n",
              "      <td>@Kenichan I dived many times for the ball. Man...</td>\n",
              "    </tr>\n",
              "    <tr>\n",
              "      <th>3</th>\n",
              "      <td>0</td>\n",
              "      <td>my whole body feels itchy and like its on fire</td>\n",
              "    </tr>\n",
              "    <tr>\n",
              "      <th>4</th>\n",
              "      <td>0</td>\n",
              "      <td>@nationwideclass no, it's not behaving at all....</td>\n",
              "    </tr>\n",
              "  </tbody>\n",
              "</table>\n",
              "</div>"
            ],
            "text/plain": [
              "   label                                               text\n",
              "0      0  @switchfoot http://twitpic.com/2y1zl - Awww, t...\n",
              "1      0  is upset that he can't update his Facebook by ...\n",
              "2      0  @Kenichan I dived many times for the ball. Man...\n",
              "3      0    my whole body feels itchy and like its on fire \n",
              "4      0  @nationwideclass no, it's not behaving at all...."
            ]
          },
          "metadata": {
            "tags": []
          },
          "execution_count": 6
        }
      ]
    },
    {
      "cell_type": "code",
      "metadata": {
        "colab": {
          "base_uri": "https://localhost:8080/"
        },
        "id": "DatnDkYxfQu7",
        "outputId": "df5aa524-1b89-4e72-df5e-e860304a65ad"
      },
      "source": [
        "validation_selected_1 = train_df[10000:20000]\n",
        "validation_selected_2 = train_df[1580000:1590000]\n",
        "validation_selected = validation_selected_1.append(validation_selected_2)\n",
        "num_0 = 0\n",
        "num_1 = 0\n",
        "for i in range(len(validation_selected)):\n",
        "  if validation_selected.iloc[i, 0] == 0:\n",
        "    num_0 = num_0 + 1\n",
        "  if validation_selected.iloc[i, 0] == 1:\n",
        "    num_1 = num_1 + 1\n",
        "print(num_0)\n",
        "print(num_1)\n",
        "validation_selected = validation_selected.reset_index(drop=True)"
      ],
      "execution_count": null,
      "outputs": [
        {
          "output_type": "stream",
          "text": [
            "10000\n",
            "10000\n"
          ],
          "name": "stdout"
        }
      ]
    },
    {
      "cell_type": "code",
      "metadata": {
        "id": "T4k-e1pkrlHv"
      },
      "source": [
        "train_small_df = train_df[20000:30000].append(train_df[1570000:1580000]).reset_index(drop=True)\n",
        "test_small_df = train_df[30000:32000].append(train_df[1568000:1570000]).reset_index(drop=True)\n",
        "val_small_df = train_df[32000:34000].append(train_df[1566000:1568000]).reset_index(drop=True)"
      ],
      "execution_count": null,
      "outputs": []
    },
    {
      "cell_type": "code",
      "metadata": {
        "id": "gNhkVV1Sx6Xn"
      },
      "source": [
        "test_df = test_selected\n",
        "train_df = train_selected\n",
        "validation_df = validation_selected"
      ],
      "execution_count": null,
      "outputs": []
    },
    {
      "cell_type": "markdown",
      "metadata": {
        "id": "KgMTFdJTYRj1"
      },
      "source": [
        "We are going to first convert all the text into lower case."
      ]
    },
    {
      "cell_type": "code",
      "metadata": {
        "colab": {
          "base_uri": "https://localhost:8080/",
          "height": 204
        },
        "id": "vbfe6XxYEcDm",
        "outputId": "5712ebfe-67d8-472a-d7f7-c6ceb9574e15"
      },
      "source": [
        "train_df['text'] = train_df['text'].apply(lambda text : text.lower())\n",
        "test_df['text'] = test_df['text'].apply(lambda text : text.lower())\n",
        "validation_df['text'] = validation_df['text'].apply(lambda text : text.lower())\n",
        "train_small_df['text'] = train_small_df['text'].apply(lambda text : text.lower())\n",
        "test_small_df['text'] = test_small_df['text'].apply(lambda text : text.lower())\n",
        "val_small_df['text'] = val_small_df['text'].apply(lambda text : text.lower())\n",
        "train_df.head()"
      ],
      "execution_count": null,
      "outputs": [
        {
          "output_type": "execute_result",
          "data": {
            "text/html": [
              "<div>\n",
              "<style scoped>\n",
              "    .dataframe tbody tr th:only-of-type {\n",
              "        vertical-align: middle;\n",
              "    }\n",
              "\n",
              "    .dataframe tbody tr th {\n",
              "        vertical-align: top;\n",
              "    }\n",
              "\n",
              "    .dataframe thead th {\n",
              "        text-align: right;\n",
              "    }\n",
              "</style>\n",
              "<table border=\"1\" class=\"dataframe\">\n",
              "  <thead>\n",
              "    <tr style=\"text-align: right;\">\n",
              "      <th></th>\n",
              "      <th>label</th>\n",
              "      <th>text</th>\n",
              "    </tr>\n",
              "  </thead>\n",
              "  <tbody>\n",
              "    <tr>\n",
              "      <th>0</th>\n",
              "      <td>0</td>\n",
              "      <td>@opotopo small slip on tryfan few weeks back, ...</td>\n",
              "    </tr>\n",
              "    <tr>\n",
              "      <th>1</th>\n",
              "      <td>0</td>\n",
              "      <td>@idristwilight you can post han when you want....</td>\n",
              "    </tr>\n",
              "    <tr>\n",
              "      <th>2</th>\n",
              "      <td>0</td>\n",
              "      <td>@rose_7 ohh poor jan  please tell her that if ...</td>\n",
              "    </tr>\n",
              "    <tr>\n",
              "      <th>3</th>\n",
              "      <td>0</td>\n",
              "      <td>finally home from work...it was a looong day!!...</td>\n",
              "    </tr>\n",
              "    <tr>\n",
              "      <th>4</th>\n",
              "      <td>0</td>\n",
              "      <td>im very sad 4 chantelle and tom</td>\n",
              "    </tr>\n",
              "  </tbody>\n",
              "</table>\n",
              "</div>"
            ],
            "text/plain": [
              "   label                                               text\n",
              "0      0  @opotopo small slip on tryfan few weeks back, ...\n",
              "1      0  @idristwilight you can post han when you want....\n",
              "2      0  @rose_7 ohh poor jan  please tell her that if ...\n",
              "3      0  finally home from work...it was a looong day!!...\n",
              "4      0                   im very sad 4 chantelle and tom "
            ]
          },
          "metadata": {
            "tags": []
          },
          "execution_count": 10
        }
      ]
    },
    {
      "cell_type": "markdown",
      "metadata": {
        "id": "2B8-FIP_YX0x"
      },
      "source": [
        "Then we are going to use the common stopwords in `nltk.stopwords`."
      ]
    },
    {
      "cell_type": "code",
      "metadata": {
        "colab": {
          "base_uri": "https://localhost:8080/"
        },
        "id": "kU1Cp2vTUDGP",
        "outputId": "183d57ab-b5ae-45d1-9767-ea001eb108dd"
      },
      "source": [
        "# We are going to use the common stopwords in nltk.stopwords\n",
        "nltk.download('stopwords')\n",
        "stopwords = set(sw.words('english'))\n",
        "\n",
        "# import the package for lemmatization\n",
        "from nltk.stem import WordNetLemmatizer\n",
        "nltk.download('wordnet')"
      ],
      "execution_count": null,
      "outputs": [
        {
          "output_type": "stream",
          "text": [
            "[nltk_data] Downloading package stopwords to /root/nltk_data...\n",
            "[nltk_data]   Unzipping corpora/stopwords.zip.\n",
            "[nltk_data] Downloading package wordnet to /root/nltk_data...\n",
            "[nltk_data]   Unzipping corpora/wordnet.zip.\n"
          ],
          "name": "stdout"
        },
        {
          "output_type": "execute_result",
          "data": {
            "text/plain": [
              "True"
            ]
          },
          "metadata": {
            "tags": []
          },
          "execution_count": 11
        }
      ]
    },
    {
      "cell_type": "markdown",
      "metadata": {
        "id": "znfd78dxYzkP"
      },
      "source": [
        "We are going to tokenize the text by first removing the names being mentioned, the tags and the http's and then calling `nltk.word_tokenize` on the cleaned text."
      ]
    },
    {
      "cell_type": "code",
      "metadata": {
        "id": "BAeqsO77YLUQ"
      },
      "source": [
        "def tokenize(text):\n",
        "  lemmatizer = WordNetLemmatizer()\n",
        "  words = text.split()\n",
        "  cleaned_words = []\n",
        "  for word in words:\n",
        "    # want to remove the @ed names, tags and the http's\n",
        "    if word.startswith(\"@\") or word.startswith(\"#\") or word.startswith(\"http\"):\n",
        "      continue\n",
        "    cleaned_words.append(lemmatizer.lemmatize(word))\n",
        "  \n",
        "  cleaned_text = \" \".join(cleaned_words)\n",
        "  tokenized = nltk.word_tokenize(cleaned_text)\n",
        "  tokenized = [token for token in tokenized if token not in stopwords]\n",
        "  return tokenized"
      ],
      "execution_count": null,
      "outputs": []
    },
    {
      "cell_type": "code",
      "metadata": {
        "colab": {
          "base_uri": "https://localhost:8080/",
          "height": 419
        },
        "id": "DJqRlz8MS6k4",
        "outputId": "04fc824a-09af-40ce-bf8d-81a4aea259e0"
      },
      "source": [
        "train_df['tokenized_text'] = train_df['text'].apply(lambda x: tokenize(x))\n",
        "train_df['num_tokens'] = train_df['tokenized_text'].apply(lambda x: len(x))\n",
        "train_df"
      ],
      "execution_count": null,
      "outputs": [
        {
          "output_type": "execute_result",
          "data": {
            "text/html": [
              "<div>\n",
              "<style scoped>\n",
              "    .dataframe tbody tr th:only-of-type {\n",
              "        vertical-align: middle;\n",
              "    }\n",
              "\n",
              "    .dataframe tbody tr th {\n",
              "        vertical-align: top;\n",
              "    }\n",
              "\n",
              "    .dataframe thead th {\n",
              "        text-align: right;\n",
              "    }\n",
              "</style>\n",
              "<table border=\"1\" class=\"dataframe\">\n",
              "  <thead>\n",
              "    <tr style=\"text-align: right;\">\n",
              "      <th></th>\n",
              "      <th>label</th>\n",
              "      <th>text</th>\n",
              "      <th>tokenized_text</th>\n",
              "      <th>num_tokens</th>\n",
              "    </tr>\n",
              "  </thead>\n",
              "  <tbody>\n",
              "    <tr>\n",
              "      <th>0</th>\n",
              "      <td>0</td>\n",
              "      <td>@opotopo small slip on tryfan few weeks back, ...</td>\n",
              "      <td>[small, slip, tryfan, week, back, ,, felt, sid...</td>\n",
              "      <td>20</td>\n",
              "    </tr>\n",
              "    <tr>\n",
              "      <th>1</th>\n",
              "      <td>0</td>\n",
              "      <td>@idristwilight you can post han when you want....</td>\n",
              "      <td>[post, han, want, ., 's, great, !, still, work...</td>\n",
              "      <td>17</td>\n",
              "    </tr>\n",
              "    <tr>\n",
              "      <th>2</th>\n",
              "      <td>0</td>\n",
              "      <td>@rose_7 ohh poor jan  please tell her that if ...</td>\n",
              "      <td>[ohh, poor, jan, please, tell, cans, ,, send, ...</td>\n",
              "      <td>12</td>\n",
              "    </tr>\n",
              "    <tr>\n",
              "      <th>3</th>\n",
              "      <td>0</td>\n",
              "      <td>finally home from work...it was a looong day!!...</td>\n",
              "      <td>[finally, home, work, ..., wa, looong, day, !,...</td>\n",
              "      <td>11</td>\n",
              "    </tr>\n",
              "    <tr>\n",
              "      <th>4</th>\n",
              "      <td>0</td>\n",
              "      <td>im very sad 4 chantelle and tom</td>\n",
              "      <td>[im, sad, 4, chantelle, tom]</td>\n",
              "      <td>5</td>\n",
              "    </tr>\n",
              "    <tr>\n",
              "      <th>...</th>\n",
              "      <td>...</td>\n",
              "      <td>...</td>\n",
              "      <td>...</td>\n",
              "      <td>...</td>\n",
              "    </tr>\n",
              "    <tr>\n",
              "      <th>99995</th>\n",
              "      <td>1</td>\n",
              "      <td>now need 8 followers to compleate 1000  follow...</td>\n",
              "      <td>[need, 8, follower, compleate, 1000, follow]</td>\n",
              "      <td>6</td>\n",
              "    </tr>\n",
              "    <tr>\n",
              "      <th>99996</th>\n",
              "      <td>1</td>\n",
              "      <td>i knew i had to explain something to my friend...</td>\n",
              "      <td>[knew, explain, something, friend, said, star,...</td>\n",
              "      <td>10</td>\n",
              "    </tr>\n",
              "    <tr>\n",
              "      <th>99997</th>\n",
              "      <td>1</td>\n",
              "      <td>done tweeting..... til tomorrow..</td>\n",
              "      <td>[done, tweeting, ..., .., til, tomorrow..]</td>\n",
              "      <td>6</td>\n",
              "    </tr>\n",
              "    <tr>\n",
              "      <th>99998</th>\n",
              "      <td>1</td>\n",
              "      <td>@cmozilo act ii set is pretty breath-taking -l...</td>\n",
              "      <td>[act, ii, set, pretty, breath-taking, -love, r...</td>\n",
              "      <td>15</td>\n",
              "    </tr>\n",
              "    <tr>\n",
              "      <th>99999</th>\n",
              "      <td>1</td>\n",
              "      <td>if you don't have an artfire account to sell y...</td>\n",
              "      <td>[n't, artfire, account, sell, fun, things, ,, ...</td>\n",
              "      <td>10</td>\n",
              "    </tr>\n",
              "  </tbody>\n",
              "</table>\n",
              "<p>100000 rows × 4 columns</p>\n",
              "</div>"
            ],
            "text/plain": [
              "       label  ... num_tokens\n",
              "0          0  ...         20\n",
              "1          0  ...         17\n",
              "2          0  ...         12\n",
              "3          0  ...         11\n",
              "4          0  ...          5\n",
              "...      ...  ...        ...\n",
              "99995      1  ...          6\n",
              "99996      1  ...         10\n",
              "99997      1  ...          6\n",
              "99998      1  ...         15\n",
              "99999      1  ...         10\n",
              "\n",
              "[100000 rows x 4 columns]"
            ]
          },
          "metadata": {
            "tags": []
          },
          "execution_count": 13
        }
      ]
    },
    {
      "cell_type": "code",
      "metadata": {
        "colab": {
          "base_uri": "https://localhost:8080/",
          "height": 204
        },
        "id": "j9wyQnCriMt2",
        "outputId": "164da102-79c2-4c75-9d09-27b657642c04"
      },
      "source": [
        "test_df['tokenized_text'] = test_df['text'].apply(lambda x: tokenize(x))\n",
        "test_df['num_tokens'] = test_df['tokenized_text'].apply(lambda x: len(x))\n",
        "test_df.head()"
      ],
      "execution_count": null,
      "outputs": [
        {
          "output_type": "execute_result",
          "data": {
            "text/html": [
              "<div>\n",
              "<style scoped>\n",
              "    .dataframe tbody tr th:only-of-type {\n",
              "        vertical-align: middle;\n",
              "    }\n",
              "\n",
              "    .dataframe tbody tr th {\n",
              "        vertical-align: top;\n",
              "    }\n",
              "\n",
              "    .dataframe thead th {\n",
              "        text-align: right;\n",
              "    }\n",
              "</style>\n",
              "<table border=\"1\" class=\"dataframe\">\n",
              "  <thead>\n",
              "    <tr style=\"text-align: right;\">\n",
              "      <th></th>\n",
              "      <th>label</th>\n",
              "      <th>text</th>\n",
              "      <th>tokenized_text</th>\n",
              "      <th>num_tokens</th>\n",
              "    </tr>\n",
              "  </thead>\n",
              "  <tbody>\n",
              "    <tr>\n",
              "      <th>0</th>\n",
              "      <td>0</td>\n",
              "      <td>@switchfoot http://twitpic.com/2y1zl - awww, t...</td>\n",
              "      <td>[-, awww, ,, 's, bummer, ., shoulda, got, davi...</td>\n",
              "      <td>14</td>\n",
              "    </tr>\n",
              "    <tr>\n",
              "      <th>1</th>\n",
              "      <td>0</td>\n",
              "      <td>is upset that he can't update his facebook by ...</td>\n",
              "      <td>[upset, ca, n't, update, facebook, texting, .....</td>\n",
              "      <td>16</td>\n",
              "    </tr>\n",
              "    <tr>\n",
              "      <th>2</th>\n",
              "      <td>0</td>\n",
              "      <td>@kenichan i dived many times for the ball. man...</td>\n",
              "      <td>[dived, many, time, ball, ., managed, save, 50...</td>\n",
              "      <td>12</td>\n",
              "    </tr>\n",
              "    <tr>\n",
              "      <th>3</th>\n",
              "      <td>0</td>\n",
              "      <td>my whole body feels itchy and like its on fire</td>\n",
              "      <td>[whole, body, feel, itchy, like, fire]</td>\n",
              "      <td>6</td>\n",
              "    </tr>\n",
              "    <tr>\n",
              "      <th>4</th>\n",
              "      <td>0</td>\n",
              "      <td>@nationwideclass no, it's not behaving at all....</td>\n",
              "      <td>[,, 's, behaving, ., 'm, mad, ., ?, ca, n't, s...</td>\n",
              "      <td>12</td>\n",
              "    </tr>\n",
              "  </tbody>\n",
              "</table>\n",
              "</div>"
            ],
            "text/plain": [
              "   label  ... num_tokens\n",
              "0      0  ...         14\n",
              "1      0  ...         16\n",
              "2      0  ...         12\n",
              "3      0  ...          6\n",
              "4      0  ...         12\n",
              "\n",
              "[5 rows x 4 columns]"
            ]
          },
          "metadata": {
            "tags": []
          },
          "execution_count": 14
        }
      ]
    },
    {
      "cell_type": "code",
      "metadata": {
        "id": "g_d86B2BgteK"
      },
      "source": [
        "validation_df['tokenized_text'] = validation_df['text'].apply(lambda x: tokenize(x))\n",
        "validation_df['num_tokens'] = validation_df['tokenized_text'].apply(lambda x: len(x))"
      ],
      "execution_count": null,
      "outputs": []
    },
    {
      "cell_type": "code",
      "metadata": {
        "id": "9skFPcS6sv8r"
      },
      "source": [
        "train_small_df['tokenized_text'] = train_small_df['text'].apply(lambda x: tokenize(x))\n",
        "train_small_df['num_tokens'] = train_small_df['tokenized_text'].apply(lambda x: len(x))"
      ],
      "execution_count": null,
      "outputs": []
    },
    {
      "cell_type": "code",
      "metadata": {
        "id": "lcgGPEc1s7uM"
      },
      "source": [
        "test_small_df['tokenized_text'] = test_small_df['text'].apply(lambda x: tokenize(x))\n",
        "test_small_df['num_tokens'] = test_small_df['tokenized_text'].apply(lambda x: len(x))"
      ],
      "execution_count": null,
      "outputs": []
    },
    {
      "cell_type": "code",
      "metadata": {
        "id": "IdnJvnBEz7CI"
      },
      "source": [
        "val_small_df['tokenized_text'] = val_small_df['text'].apply(lambda x: tokenize(x))\n",
        "val_small_df['num_tokens'] = val_small_df['tokenized_text'].apply(lambda x: len(x))"
      ],
      "execution_count": null,
      "outputs": []
    },
    {
      "cell_type": "markdown",
      "metadata": {
        "id": "wobBRR_nzGH_"
      },
      "source": [
        "# Wordcloud\n",
        "To analyze the most frequent words unique to the positive and negative tweets, we would use a counter to keep track of the counts and then generate two wordclouds."
      ]
    },
    {
      "cell_type": "code",
      "metadata": {
        "id": "uofm3_uEvsZb"
      },
      "source": [
        "from collections import Counter\n",
        "positive_counter = Counter()\n",
        "negative_counter = Counter()\n",
        "\n",
        "for i in range(len(train_df)):\n",
        "  tokens = train_df.iloc[i][2]\n",
        "  label = train_df.iloc[i][0]\n",
        "  for token in tokens:\n",
        "    if label == 0:\n",
        "      negative_counter[token] += 1\n",
        "      positive_counter[token] -= 1\n",
        "    else:\n",
        "      negative_counter[token] -= 1\n",
        "      positive_counter[token] += 1"
      ],
      "execution_count": null,
      "outputs": []
    },
    {
      "cell_type": "code",
      "metadata": {
        "colab": {
          "base_uri": "https://localhost:8080/"
        },
        "id": "Oi4hTXQIxUT7",
        "outputId": "df147dea-c751-4359-bfb0-fd1307e130bc"
      },
      "source": [
        "print(positive_counter.most_common(10))\n",
        "print(negative_counter.most_common(10))"
      ],
      "execution_count": null,
      "outputs": [
        {
          "output_type": "stream",
          "text": [
            "[('!', 6347), (',', 2730), ('good', 2211), ('love', 1748), ('thanks', 1710), (';', 1503), ('-', 1365), ('&', 1313), ('great', 1206), ('quot', 1193)]\n",
            "[('.', 4775), (\"n't\", 4064), ('...', 2221), ('sad', 2047), ('miss', 1833), ('work', 1541), ('want', 1231), ('ca', 1184), (\"'m\", 1169), ('go', 1127)]\n"
          ],
          "name": "stdout"
        }
      ]
    },
    {
      "cell_type": "code",
      "metadata": {
        "colab": {
          "base_uri": "https://localhost:8080/",
          "height": 239
        },
        "id": "3p2KJ8xexr7S",
        "outputId": "82586a67-8ae3-4e4b-db62-6a51c5fc5d90"
      },
      "source": [
        "positive_wordcloud = wordcloud.WordCloud(width=2000, height=1000).generate_from_frequencies(positive_counter)\n",
        "plt.imshow(positive_wordcloud, interpolation=\"bilinear\")"
      ],
      "execution_count": null,
      "outputs": [
        {
          "output_type": "execute_result",
          "data": {
            "text/plain": [
              "<matplotlib.image.AxesImage at 0x7f2bdf7f0908>"
            ]
          },
          "metadata": {
            "tags": []
          },
          "execution_count": 37
        },
        {
          "output_type": "display_data",
          "data": {
            "image/png": "[encoded data removed]",
            "text/plain": [
              "<Figure size 432x288 with 1 Axes>"
            ]
          },
          "metadata": {
            "tags": []
          }
        }
      ]
    },
    {
      "cell_type": "code",
      "metadata": {
        "colab": {
          "base_uri": "https://localhost:8080/",
          "height": 239
        },
        "id": "DuIpc5-HyLGK",
        "outputId": "731c6cd2-59fa-4bca-f68d-71033460554a"
      },
      "source": [
        "negative_wordcloud = wordcloud.WordCloud(width=2000, height=1000).generate_from_frequencies(negative_counter)\n",
        "plt.imshow(negative_wordcloud, interpolation=\"bilinear\")"
      ],
      "execution_count": null,
      "outputs": [
        {
          "output_type": "execute_result",
          "data": {
            "text/plain": [
              "<matplotlib.image.AxesImage at 0x7f2bdf6056a0>"
            ]
          },
          "metadata": {
            "tags": []
          },
          "execution_count": 38
        },
        {
          "output_type": "display_data",
          "data": {
            "image/png": "[encoded data removed]",
            "text/plain": [
              "<Figure size 432x288 with 1 Axes>"
            ]
          },
          "metadata": {
            "tags": []
          }
        }
      ]
    },
    {
      "cell_type": "markdown",
      "metadata": {
        "id": "hjOe8B0Hqldw"
      },
      "source": [
        "# Token Length Distribution Against the Label"
      ]
    },
    {
      "cell_type": "code",
      "metadata": {
        "colab": {
          "base_uri": "https://localhost:8080/",
          "height": 285
        },
        "id": "w5m5qRVfqo33",
        "outputId": "c18c0def-d41b-4c7c-bac1-6de5ce551e99"
      },
      "source": [
        "ax = sns.violinplot(x=\"label\", y=\"num_tokens\", data=train_df)"
      ],
      "execution_count": null,
      "outputs": [
        {
          "output_type": "display_data",
          "data": {
            "image/png": "[encoded data removed]",
            "text/plain": [
              "<Figure size 432x288 with 1 Axes>"
            ]
          },
          "metadata": {
            "tags": []
          }
        }
      ]
    },
    {
      "cell_type": "markdown",
      "metadata": {
        "id": "DtFBYNNzdisv"
      },
      "source": [
        "#Word2vec"
      ]
    },
    {
      "cell_type": "code",
      "metadata": {
        "id": "V09hi453dnIv"
      },
      "source": [
        "from gensim.models import Word2Vec\n",
        "from sklearn.linear_model import LogisticRegression\n",
        "from sklearn.metrics import accuracy_score"
      ],
      "execution_count": null,
      "outputs": []
    },
    {
      "cell_type": "code",
      "metadata": {
        "colab": {
          "base_uri": "https://localhost:8080/"
        },
        "id": "y9C5Mig9gSck",
        "outputId": "99965a34-a714-43a0-8cf4-252bdcc9e2a0"
      },
      "source": [
        "corpus = train_df['tokenized_text'].tolist()\n",
        "len(corpus)"
      ],
      "execution_count": null,
      "outputs": [
        {
          "output_type": "execute_result",
          "data": {
            "text/plain": [
              "100000"
            ]
          },
          "metadata": {
            "tags": []
          },
          "execution_count": 20
        }
      ]
    },
    {
      "cell_type": "code",
      "metadata": {
        "colab": {
          "base_uri": "https://localhost:8080/"
        },
        "id": "kSJN0lf6_F2-",
        "outputId": "25febad2-2dcb-47d5-8a37-0544b563cf86"
      },
      "source": [
        "model = Word2Vec(corpus, min_count=5, window = 3)\n",
        "model.most_similar(['happy'])"
      ],
      "execution_count": null,
      "outputs": [
        {
          "output_type": "stream",
          "text": [
            "/usr/local/lib/python3.6/dist-packages/ipykernel_launcher.py:2: DeprecationWarning: Call to deprecated `most_similar` (Method will be removed in 4.0.0, use self.wv.most_similar() instead).\n",
            "  \n",
            "/usr/local/lib/python3.6/dist-packages/gensim/matutils.py:737: FutureWarning: Conversion of the second argument of issubdtype from `int` to `np.signedinteger` is deprecated. In future, it will be treated as `np.int64 == np.dtype(int).type`.\n",
            "  if np.issubdtype(vec.dtype, np.int):\n"
          ],
          "name": "stderr"
        },
        {
          "output_type": "execute_result",
          "data": {
            "text/plain": [
              "[('excited', 0.7179142236709595),\n",
              " ('jealous', 0.6925813555717468),\n",
              " ('party', 0.6545026898384094),\n",
              " ('birthday', 0.6528373956680298),\n",
              " ('bday', 0.6527419090270996),\n",
              " ('lucky', 0.6506863832473755),\n",
              " ('nervous', 0.6505507230758667),\n",
              " ('sad', 0.6337243318557739),\n",
              " ('missing', 0.62849360704422),\n",
              " ('loving', 0.6169661283493042)]"
            ]
          },
          "metadata": {
            "tags": []
          },
          "execution_count": 21
        }
      ]
    },
    {
      "cell_type": "code",
      "metadata": {
        "colab": {
          "base_uri": "https://localhost:8080/"
        },
        "id": "qZJaGeflYxMX",
        "outputId": "227f8b74-bb38-474c-d1c8-24e9b46a5720"
      },
      "source": [
        "model.similar_by_word('cake', 20)"
      ],
      "execution_count": null,
      "outputs": [
        {
          "output_type": "stream",
          "text": [
            "/usr/local/lib/python3.6/dist-packages/ipykernel_launcher.py:1: DeprecationWarning: Call to deprecated `similar_by_word` (Method will be removed in 4.0.0, use self.wv.similar_by_word() instead).\n",
            "  \"\"\"Entry point for launching an IPython kernel.\n",
            "/usr/local/lib/python3.6/dist-packages/gensim/matutils.py:737: FutureWarning: Conversion of the second argument of issubdtype from `int` to `np.signedinteger` is deprecated. In future, it will be treated as `np.int64 == np.dtype(int).type`.\n",
            "  if np.issubdtype(vec.dtype, np.int):\n"
          ],
          "name": "stderr"
        },
        {
          "output_type": "execute_result",
          "data": {
            "text/plain": [
              "[('anesti', 0.8982411026954651),\n",
              " ('carrot', 0.8931505680084229),\n",
              " ('yum', 0.8919219374656677),\n",
              " ('mindless', 0.8872406482696533),\n",
              " ('palace', 0.8832082152366638),\n",
              " ('pancake', 0.8808132410049438),\n",
              " ('rice', 0.880324125289917),\n",
              " ('spicy', 0.8803125023841858),\n",
              " ('egg', 0.8803109526634216),\n",
              " ('biscuit', 0.880156397819519),\n",
              " ('88', 0.878460168838501),\n",
              " ('cocoa', 0.8767523765563965),\n",
              " ('chai', 0.8767238855361938),\n",
              " ('phoenix', 0.8763140439987183),\n",
              " ('cross', 0.8750360012054443),\n",
              " ('miami', 0.8743449449539185),\n",
              " ('homemade', 0.8732529878616333),\n",
              " ('spice', 0.8727977275848389),\n",
              " ('greek', 0.8713781833648682),\n",
              " ('north', 0.8700557947158813)]"
            ]
          },
          "metadata": {
            "tags": []
          },
          "execution_count": 23
        }
      ]
    },
    {
      "cell_type": "code",
      "metadata": {
        "colab": {
          "base_uri": "https://localhost:8080/"
        },
        "id": "IBwXA1kkdago",
        "outputId": "307708e3-99b6-489d-fc7e-989e060c858e"
      },
      "source": [
        "model['cat']"
      ],
      "execution_count": null,
      "outputs": [
        {
          "output_type": "stream",
          "text": [
            "/usr/local/lib/python3.6/dist-packages/ipykernel_launcher.py:1: DeprecationWarning: Call to deprecated `__getitem__` (Method will be removed in 4.0.0, use self.wv.__getitem__() instead).\n",
            "  \"\"\"Entry point for launching an IPython kernel.\n"
          ],
          "name": "stderr"
        },
        {
          "output_type": "execute_result",
          "data": {
            "text/plain": [
              "array([ 0.03307868, -0.17736839,  0.16049795,  0.05961573,  0.18164936,\n",
              "        0.17887905,  0.072179  ,  0.34524998,  0.19430381,  0.3122497 ,\n",
              "       -0.1496185 , -0.02760169, -0.05579575,  0.13920912, -0.2370587 ,\n",
              "       -0.5583633 , -0.36577427,  0.07583626, -0.23919295, -0.24303548,\n",
              "        0.49259746,  0.2678082 , -0.3883255 , -0.13301496, -0.0013976 ,\n",
              "       -0.05843661, -0.26623017, -0.5880421 ,  0.3787821 , -0.07576375,\n",
              "        0.4177747 ,  0.18017648, -0.13129143,  0.35200226,  0.2166281 ,\n",
              "        0.08555627, -0.00531522,  0.05519994,  0.4970042 , -0.11404945,\n",
              "        0.34267402, -0.20059517, -0.14668937, -0.39167187, -0.17319278,\n",
              "        0.1012482 , -0.19778748, -0.3094759 , -0.46459475, -0.10095147,\n",
              "       -0.07669846, -0.03195113, -0.03009909, -0.4729178 , -0.41012567,\n",
              "       -0.00571031, -0.08838785, -0.26163974, -0.15224265,  0.63378906,\n",
              "        0.23701514,  0.06825908, -0.06017636,  0.03058429,  0.21620265,\n",
              "        0.08300854,  0.12887399, -0.05306461,  0.05889766, -0.2789549 ,\n",
              "       -0.23153752, -0.03534418, -0.30165043,  0.4161184 ,  0.25444412,\n",
              "       -0.2735386 , -0.2704949 , -0.28299   ,  0.37626806, -0.2975239 ,\n",
              "       -0.49339396, -0.24512881, -0.1735704 ,  0.14728387, -0.24127571,\n",
              "       -0.13032648,  0.17856947,  0.08247712,  0.39886066, -0.19837603,\n",
              "        0.3868826 , -0.0377636 , -0.51964015,  0.26676154,  0.02696557,\n",
              "       -0.25053498, -0.27307665,  0.04925013,  0.32955062, -0.09367932],\n",
              "      dtype=float32)"
            ]
          },
          "metadata": {
            "tags": []
          },
          "execution_count": 24
        }
      ]
    },
    {
      "cell_type": "markdown",
      "metadata": {
        "id": "e5NTRSFuTS5f"
      },
      "source": [
        "##TSNE visualization of word vectors"
      ]
    },
    {
      "cell_type": "code",
      "metadata": {
        "colab": {
          "base_uri": "https://localhost:8080/",
          "height": 759
        },
        "id": "YE7gyKk6TVIv",
        "outputId": "fb4a6df8-a3bd-4df2-ba18-e01b748625c1"
      },
      "source": [
        "from sklearn.manifold import TSNE\n",
        "import matplotlib.pyplot as plt\n",
        "# function to pick the first k words similar to the given word and visualize\n",
        "def visualize_k(input_word, k):\n",
        "  tsne = TSNE(n_components=2)\n",
        "  list_of_words = model.similar_by_word(input_word, k)\n",
        "  list_of_words = [item[0] for item in list_of_words]\n",
        "  vector_list = [model[word].tolist() for word in list_of_words]\n",
        "  vector_arr = np.array(vector_list)\n",
        "  twodvec = tsne.fit_transform(vector_arr)\n",
        "  twodlist = twodvec.tolist()\n",
        "  x_axis = [item[0] for item in twodlist]\n",
        "  y_axis = [item[1] for item in twodlist]\n",
        "  plt.scatter(x_axis, y_axis)\n",
        "  for i, word in enumerate(list_of_words):\n",
        "    plt.annotate(word, (x_axis[i], y_axis[i]))\n",
        "  plt.suptitle(f\"Plot of {k} words most similar to {input_word}\", fontsize = 20)\n",
        "  return twodvec\n",
        "visualize_k('fantastic', 20)"
      ],
      "execution_count": null,
      "outputs": [
        {
          "output_type": "stream",
          "text": [
            "/usr/local/lib/python3.6/dist-packages/ipykernel_launcher.py:6: DeprecationWarning: Call to deprecated `similar_by_word` (Method will be removed in 4.0.0, use self.wv.similar_by_word() instead).\n",
            "  \n",
            "/usr/local/lib/python3.6/dist-packages/gensim/matutils.py:737: FutureWarning: Conversion of the second argument of issubdtype from `int` to `np.signedinteger` is deprecated. In future, it will be treated as `np.int64 == np.dtype(int).type`.\n",
            "  if np.issubdtype(vec.dtype, np.int):\n",
            "/usr/local/lib/python3.6/dist-packages/ipykernel_launcher.py:8: DeprecationWarning: Call to deprecated `__getitem__` (Method will be removed in 4.0.0, use self.wv.__getitem__() instead).\n",
            "  \n"
          ],
          "name": "stderr"
        },
        {
          "output_type": "execute_result",
          "data": {
            "text/plain": [
              "array([[  30.085165  ,   51.02437   ],\n",
              "       [  31.62603   ,  -21.709373  ],\n",
              "       [-115.59357   ,   91.37591   ],\n",
              "       [ -80.09809   ,  -38.399483  ],\n",
              "       [ -46.18889   ,  139.39514   ],\n",
              "       [  32.75964   ,  124.12077   ],\n",
              "       [-151.14848   ,    4.769986  ],\n",
              "       [-137.83173   ,  -77.91672   ],\n",
              "       [  -0.62434185, -146.03056   ],\n",
              "       [ -72.58205   , -121.38781   ],\n",
              "       [ -84.229256  ,   28.863533  ],\n",
              "       [ 110.06515   ,  -57.712112  ],\n",
              "       [  88.451324  , -134.68983   ],\n",
              "       [ -22.724764  ,  -67.53102   ],\n",
              "       [ 101.3683    ,   85.93863   ],\n",
              "       [  83.4023    ,   12.833111  ],\n",
              "       [  40.749554  ,  -84.032845  ],\n",
              "       [ -23.889082  ,    3.2728207 ],\n",
              "       [ 152.45609   ,   10.067234  ],\n",
              "       [ -31.252617  ,   71.42689   ]], dtype=float32)"
            ]
          },
          "metadata": {
            "tags": []
          },
          "execution_count": 25
        },
        {
          "output_type": "display_data",
          "data": {
            "image/png": "[encoded data removed]",
            "text/plain": [
              "<Figure size 432x288 with 1 Axes>"
            ]
          },
          "metadata": {
            "tags": [],
            "needs_background": "light"
          }
        }
      ]
    },
    {
      "cell_type": "code",
      "metadata": {
        "id": "sONd_mShuDCr"
      },
      "source": [
        "y_train_org = train_df['label'].tolist()"
      ],
      "execution_count": null,
      "outputs": []
    },
    {
      "cell_type": "code",
      "metadata": {
        "colab": {
          "base_uri": "https://localhost:8080/"
        },
        "id": "_3Z5f_sOAscl",
        "outputId": "5b31bc85-b73f-489a-fdb4-f79cbe3810e8"
      },
      "source": [
        "#corpus = np.array(corpus)\n",
        "def doc_vec(document, labels):\n",
        "  vec_list = []\n",
        "  label_list = []\n",
        "  for i in range(len(document)):\n",
        "    row = document[i]\n",
        "    row_filtered = [word for word in row if word in model.wv.vocab]\n",
        "    vec_filtered = []\n",
        "    for j in range(len(row_filtered)):\n",
        "      vec_filtered.append(model[row_filtered[j]])\n",
        "    mean_vec = np.mean(vec_filtered, axis = 0)\n",
        "    mean_vec = mean_vec.tolist()\n",
        "    if isinstance(mean_vec, list):\n",
        "      vec_list.append(mean_vec)\n",
        "      label_list.append(labels[i])\n",
        "  return vec_list, label_list\n",
        "\n",
        "X_train, y_train = doc_vec(corpus, y_train_org)\n",
        "X_train = np.array(X_train)\n",
        "y_train = np.array(y_train)\n",
        "print(X_train.shape)\n",
        "print(y_train.shape)"
      ],
      "execution_count": null,
      "outputs": [
        {
          "output_type": "stream",
          "text": [
            "/usr/local/lib/python3.6/dist-packages/ipykernel_launcher.py:10: DeprecationWarning: Call to deprecated `__getitem__` (Method will be removed in 4.0.0, use self.wv.__getitem__() instead).\n",
            "  # Remove the CWD from sys.path while we load stuff.\n",
            "/usr/local/lib/python3.6/dist-packages/numpy/core/fromnumeric.py:3335: RuntimeWarning: Mean of empty slice.\n",
            "  out=out, **kwargs)\n",
            "/usr/local/lib/python3.6/dist-packages/numpy/core/_methods.py:161: RuntimeWarning: invalid value encountered in double_scalars\n",
            "  ret = ret.dtype.type(ret / rcount)\n"
          ],
          "name": "stderr"
        },
        {
          "output_type": "stream",
          "text": [
            "(99434, 100)\n",
            "(99434,)\n"
          ],
          "name": "stdout"
        }
      ]
    },
    {
      "cell_type": "code",
      "metadata": {
        "colab": {
          "base_uri": "https://localhost:8080/"
        },
        "id": "1N0kIJmxiEHT",
        "outputId": "34c1e517-d46e-44a5-c321-cbaf06c04e51"
      },
      "source": [
        "test_sent = test_df['tokenized_text'].tolist()\n",
        "\n",
        "y_test_org = test_df['label'].tolist()\n",
        "\n",
        "X_test, y_test = doc_vec(test_sent, y_test_org)\n",
        "\n",
        "X_test = np.array(X_test)\n",
        "y_test = np.array(y_test)\n",
        "print(X_test.shape)\n",
        "print(y_test.shape)"
      ],
      "execution_count": null,
      "outputs": [
        {
          "output_type": "stream",
          "text": [
            "/usr/local/lib/python3.6/dist-packages/ipykernel_launcher.py:10: DeprecationWarning: Call to deprecated `__getitem__` (Method will be removed in 4.0.0, use self.wv.__getitem__() instead).\n",
            "  # Remove the CWD from sys.path while we load stuff.\n",
            "/usr/local/lib/python3.6/dist-packages/numpy/core/fromnumeric.py:3335: RuntimeWarning: Mean of empty slice.\n",
            "  out=out, **kwargs)\n",
            "/usr/local/lib/python3.6/dist-packages/numpy/core/_methods.py:161: RuntimeWarning: invalid value encountered in double_scalars\n",
            "  ret = ret.dtype.type(ret / rcount)\n"
          ],
          "name": "stderr"
        },
        {
          "output_type": "stream",
          "text": [
            "(19884, 100)\n",
            "(19884,)\n"
          ],
          "name": "stdout"
        }
      ]
    },
    {
      "cell_type": "code",
      "metadata": {
        "colab": {
          "base_uri": "https://localhost:8080/"
        },
        "id": "jNn2txd0hj-9",
        "outputId": "aa3ab98d-1cb0-4892-dd49-e1f83c990072"
      },
      "source": [
        "val_text = validation_df['tokenized_text'].tolist()\n",
        "val_labels = validation_df['label'].tolist()\n",
        "X_val, y_val = doc_vec(val_text, val_labels)\n",
        "X_val = np.array(X_val)\n",
        "y_val = np.array(y_val)"
      ],
      "execution_count": null,
      "outputs": [
        {
          "output_type": "stream",
          "text": [
            "/usr/local/lib/python3.6/dist-packages/ipykernel_launcher.py:10: DeprecationWarning: Call to deprecated `__getitem__` (Method will be removed in 4.0.0, use self.wv.__getitem__() instead).\n",
            "  # Remove the CWD from sys.path while we load stuff.\n",
            "/usr/local/lib/python3.6/dist-packages/numpy/core/fromnumeric.py:3335: RuntimeWarning: Mean of empty slice.\n",
            "  out=out, **kwargs)\n",
            "/usr/local/lib/python3.6/dist-packages/numpy/core/_methods.py:161: RuntimeWarning: invalid value encountered in double_scalars\n",
            "  ret = ret.dtype.type(ret / rcount)\n"
          ],
          "name": "stderr"
        }
      ]
    },
    {
      "cell_type": "code",
      "metadata": {
        "colab": {
          "base_uri": "https://localhost:8080/"
        },
        "id": "NBnac-tstFdG",
        "outputId": "28a727a9-6fc6-441d-93b1-20c017c12dbb"
      },
      "source": [
        "train_small_text = train_small_df['tokenized_text'].tolist()\n",
        "train_small_labels = train_small_df['label'].tolist()\n",
        "X_train_small, y_train_small = doc_vec(train_small_text, train_small_labels)\n",
        "X_train_small = np.array(X_train_small)\n",
        "y_train_small = np.array(y_train_small)"
      ],
      "execution_count": null,
      "outputs": [
        {
          "output_type": "stream",
          "text": [
            "/usr/local/lib/python3.6/dist-packages/ipykernel_launcher.py:10: DeprecationWarning: Call to deprecated `__getitem__` (Method will be removed in 4.0.0, use self.wv.__getitem__() instead).\n",
            "  # Remove the CWD from sys.path while we load stuff.\n",
            "/usr/local/lib/python3.6/dist-packages/numpy/core/fromnumeric.py:3335: RuntimeWarning: Mean of empty slice.\n",
            "  out=out, **kwargs)\n",
            "/usr/local/lib/python3.6/dist-packages/numpy/core/_methods.py:161: RuntimeWarning: invalid value encountered in double_scalars\n",
            "  ret = ret.dtype.type(ret / rcount)\n"
          ],
          "name": "stderr"
        }
      ]
    },
    {
      "cell_type": "code",
      "metadata": {
        "colab": {
          "base_uri": "https://localhost:8080/"
        },
        "id": "nqBgulbSuTpn",
        "outputId": "c401e28e-2a9e-4d42-a93b-b0f693cf55ca"
      },
      "source": [
        "test_small_text = test_small_df['tokenized_text'].tolist()\n",
        "test_small_labels = test_small_df['label'].tolist()\n",
        "X_test_small, y_test_small = doc_vec(test_small_text, test_small_labels)\n",
        "X_test_small = np.array(X_test_small)\n",
        "y_test_small = np.array(y_test_small)"
      ],
      "execution_count": null,
      "outputs": [
        {
          "output_type": "stream",
          "text": [
            "/usr/local/lib/python3.6/dist-packages/ipykernel_launcher.py:10: DeprecationWarning: Call to deprecated `__getitem__` (Method will be removed in 4.0.0, use self.wv.__getitem__() instead).\n",
            "  # Remove the CWD from sys.path while we load stuff.\n",
            "/usr/local/lib/python3.6/dist-packages/numpy/core/fromnumeric.py:3335: RuntimeWarning: Mean of empty slice.\n",
            "  out=out, **kwargs)\n",
            "/usr/local/lib/python3.6/dist-packages/numpy/core/_methods.py:161: RuntimeWarning: invalid value encountered in double_scalars\n",
            "  ret = ret.dtype.type(ret / rcount)\n"
          ],
          "name": "stderr"
        }
      ]
    },
    {
      "cell_type": "code",
      "metadata": {
        "colab": {
          "base_uri": "https://localhost:8080/"
        },
        "id": "w4-jM9VT0Gcd",
        "outputId": "97ae4cee-fbbd-45d2-ef6f-c8db12b38c6a"
      },
      "source": [
        "val_small_text = val_small_df['tokenized_text'].tolist()\n",
        "val_small_labels = val_small_df['label'].tolist()\n",
        "X_val_small, y_val_small = doc_vec(val_small_text, val_small_labels)\n",
        "X_val_small = np.array(X_val_small)\n",
        "y_val_small = np.array(y_val_small)"
      ],
      "execution_count": null,
      "outputs": [
        {
          "output_type": "stream",
          "text": [
            "/usr/local/lib/python3.6/dist-packages/ipykernel_launcher.py:10: DeprecationWarning: Call to deprecated `__getitem__` (Method will be removed in 4.0.0, use self.wv.__getitem__() instead).\n",
            "  # Remove the CWD from sys.path while we load stuff.\n",
            "/usr/local/lib/python3.6/dist-packages/numpy/core/fromnumeric.py:3335: RuntimeWarning: Mean of empty slice.\n",
            "  out=out, **kwargs)\n",
            "/usr/local/lib/python3.6/dist-packages/numpy/core/_methods.py:161: RuntimeWarning: invalid value encountered in double_scalars\n",
            "  ret = ret.dtype.type(ret / rcount)\n"
          ],
          "name": "stderr"
        }
      ]
    },
    {
      "cell_type": "markdown",
      "metadata": {
        "id": "AbGLpVOD39yJ"
      },
      "source": [
        "# Logistic Regression"
      ]
    },
    {
      "cell_type": "code",
      "metadata": {
        "colab": {
          "base_uri": "https://localhost:8080/"
        },
        "id": "zjtz67CbhEph",
        "outputId": "481ce199-7059-471d-86f7-faac25fa5ba6"
      },
      "source": [
        "# try different values of C\n",
        "c_vals = [0.01, 0.1, 1, 10, 100, 200, 500]\n",
        "train_accs = []\n",
        "val_accs = []\n",
        "for c_val in c_vals:\n",
        "  clf = LogisticRegression(C=c_val, max_iter=1000).fit(X_train, y_train)\n",
        "  y_pred_val = clf.predict(X_val)\n",
        "  train_acc = accuracy_score(y_train, clf.predict(X_train))\n",
        "  val_acc = accuracy_score(y_pred_val, y_val)\n",
        "  train_accs.append(train_acc)\n",
        "  val_accs.append(val_acc)\n",
        "\n",
        "print(train_accs)\n",
        "print(val_accs)"
      ],
      "execution_count": null,
      "outputs": [
        {
          "output_type": "stream",
          "text": [
            "/usr/local/lib/python3.6/dist-packages/sklearn/linear_model/_logistic.py:940: ConvergenceWarning: lbfgs failed to converge (status=1):\n",
            "STOP: TOTAL NO. of ITERATIONS REACHED LIMIT.\n",
            "\n",
            "Increase the number of iterations (max_iter) or scale the data as shown in:\n",
            "    https://scikit-learn.org/stable/modules/preprocessing.html\n",
            "Please also refer to the documentation for alternative solver options:\n",
            "    https://scikit-learn.org/stable/modules/linear_model.html#logistic-regression\n",
            "  extra_warning_msg=_LOGISTIC_SOLVER_CONVERGENCE_MSG)\n",
            "/usr/local/lib/python3.6/dist-packages/sklearn/linear_model/_logistic.py:940: ConvergenceWarning: lbfgs failed to converge (status=1):\n",
            "STOP: TOTAL NO. of ITERATIONS REACHED LIMIT.\n",
            "\n",
            "Increase the number of iterations (max_iter) or scale the data as shown in:\n",
            "    https://scikit-learn.org/stable/modules/preprocessing.html\n",
            "Please also refer to the documentation for alternative solver options:\n",
            "    https://scikit-learn.org/stable/modules/linear_model.html#logistic-regression\n",
            "  extra_warning_msg=_LOGISTIC_SOLVER_CONVERGENCE_MSG)\n",
            "/usr/local/lib/python3.6/dist-packages/sklearn/linear_model/_logistic.py:940: ConvergenceWarning: lbfgs failed to converge (status=1):\n",
            "STOP: TOTAL NO. of ITERATIONS REACHED LIMIT.\n",
            "\n",
            "Increase the number of iterations (max_iter) or scale the data as shown in:\n",
            "    https://scikit-learn.org/stable/modules/preprocessing.html\n",
            "Please also refer to the documentation for alternative solver options:\n",
            "    https://scikit-learn.org/stable/modules/linear_model.html#logistic-regression\n",
            "  extra_warning_msg=_LOGISTIC_SOLVER_CONVERGENCE_MSG)\n"
          ],
          "name": "stderr"
        },
        {
          "output_type": "stream",
          "text": [
            "[0.6755033489550858, 0.6869782971619366, 0.6978699438823742, 0.7038336987348391, 0.7053724078283082, 0.7053221232174105, 0.7054930908944627]\n",
            "[0.6628597303280338, 0.6707587039645804, 0.6736767961360435, 0.6784061179311732, 0.6785067417991547, 0.6779533105252565, 0.6787583014691084]\n"
          ],
          "name": "stdout"
        },
        {
          "output_type": "stream",
          "text": [
            "/usr/local/lib/python3.6/dist-packages/sklearn/linear_model/_logistic.py:940: ConvergenceWarning: lbfgs failed to converge (status=1):\n",
            "STOP: TOTAL NO. of ITERATIONS REACHED LIMIT.\n",
            "\n",
            "Increase the number of iterations (max_iter) or scale the data as shown in:\n",
            "    https://scikit-learn.org/stable/modules/preprocessing.html\n",
            "Please also refer to the documentation for alternative solver options:\n",
            "    https://scikit-learn.org/stable/modules/linear_model.html#logistic-regression\n",
            "  extra_warning_msg=_LOGISTIC_SOLVER_CONVERGENCE_MSG)\n"
          ],
          "name": "stderr"
        }
      ]
    },
    {
      "cell_type": "code",
      "metadata": {
        "colab": {
          "base_uri": "https://localhost:8080/"
        },
        "id": "kg8ovyyike-R",
        "outputId": "b51e3b5f-22ef-43a9-c970-d47a43334f9b"
      },
      "source": [
        "clf = LogisticRegression(C=100, max_iter=1000).fit(X_train, y_train)\n",
        "y_pred = clf.predict(X_test)\n",
        "train_acc = accuracy_score(y_train, clf.predict(X_train))\n",
        "test_acc = accuracy_score(y_pred, y_test)\n",
        "print(f\"training accuracy: {train_acc}\")\n",
        "print(f\"test accuracy: {test_acc}\")"
      ],
      "execution_count": null,
      "outputs": [
        {
          "output_type": "stream",
          "text": [
            "training accuracy: 0.7053724078283082\n",
            "test accuracy: 0.6861798430899215\n"
          ],
          "name": "stdout"
        },
        {
          "output_type": "stream",
          "text": [
            "/usr/local/lib/python3.6/dist-packages/sklearn/linear_model/_logistic.py:940: ConvergenceWarning: lbfgs failed to converge (status=1):\n",
            "STOP: TOTAL NO. of ITERATIONS REACHED LIMIT.\n",
            "\n",
            "Increase the number of iterations (max_iter) or scale the data as shown in:\n",
            "    https://scikit-learn.org/stable/modules/preprocessing.html\n",
            "Please also refer to the documentation for alternative solver options:\n",
            "    https://scikit-learn.org/stable/modules/linear_model.html#logistic-regression\n",
            "  extra_warning_msg=_LOGISTIC_SOLVER_CONVERGENCE_MSG)\n"
          ],
          "name": "stderr"
        }
      ]
    },
    {
      "cell_type": "markdown",
      "metadata": {
        "id": "dOywYnMZavPc"
      },
      "source": [
        "# Naive Bayes "
      ]
    },
    {
      "cell_type": "markdown",
      "metadata": {
        "id": "QqHbAodhsyjZ"
      },
      "source": [
        "Gaussian"
      ]
    },
    {
      "cell_type": "code",
      "metadata": {
        "colab": {
          "base_uri": "https://localhost:8080/"
        },
        "id": "Yf3zoHC9axmv",
        "outputId": "38965c9e-6842-4187-e5a0-4cb95c8aec17"
      },
      "source": [
        "from sklearn.naive_bayes import GaussianNB\n",
        "gnb = GaussianNB().fit(X_train, y_train)\n",
        "y_pred = gnb.predict(X_test)\n",
        "train_acc = accuracy_score(y_train, gnb.predict(X_train))\n",
        "val_acc = accuracy_score(y_val, gnb.predict(X_val))\n",
        "test_acc = accuracy_score(y_pred, y_test)\n",
        "print(f\"training accuracy for Gaussian NB: {train_acc}\")\n",
        "print(f\"validation accuracy for Gaussian NB: {val_acc}\")\n",
        "print(f\"test accuracy for Gaussian NB: {test_acc}\")"
      ],
      "execution_count": null,
      "outputs": [
        {
          "output_type": "stream",
          "text": [
            "training accuracy for Gaussian NB: 0.6114809823601585\n",
            "validation accuracy for Gaussian NB: 0.6198430267659489\n",
            "test accuracy for Gaussian NB: 0.6290484811909073\n"
          ],
          "name": "stdout"
        }
      ]
    },
    {
      "cell_type": "markdown",
      "metadata": {
        "id": "J-ldv9Xds0Q6"
      },
      "source": [
        "Bernoulli"
      ]
    },
    {
      "cell_type": "code",
      "metadata": {
        "colab": {
          "base_uri": "https://localhost:8080/"
        },
        "id": "Pyt11H5Js1Wo",
        "outputId": "278a6196-d02b-4757-866b-c8df0900f2f2"
      },
      "source": [
        "from sklearn.naive_bayes import BernoulliNB\n",
        "bnb = BernoulliNB().fit(X_train, y_train)\n",
        "y_pred = bnb.predict(X_test)\n",
        "train_acc = accuracy_score(y_train, bnb.predict(X_train))\n",
        "val_acc = accuracy_score(y_val, bnb.predict(X_val))\n",
        "test_acc = accuracy_score(y_pred, y_test)\n",
        "print(f\"training accuracy for Bernoulli NB: {train_acc}\")\n",
        "print(f\"validation accuracy for Bernoulli NB: {val_acc}\")\n",
        "print(f\"test accuracy for Bernoulli NB: {test_acc}\")"
      ],
      "execution_count": null,
      "outputs": [
        {
          "output_type": "stream",
          "text": [
            "training accuracy for Bernoulli NB: 0.6093690287024559\n",
            "validation accuracy for Bernoulli NB: 0.6179311732743007\n",
            "test accuracy for Bernoulli NB: 0.6280929390464696\n"
          ],
          "name": "stdout"
        }
      ]
    },
    {
      "cell_type": "markdown",
      "metadata": {
        "id": "Dz8PSbNufWNH"
      },
      "source": [
        "# SVM"
      ]
    },
    {
      "cell_type": "markdown",
      "metadata": {
        "id": "N4OOcIUHx3lT"
      },
      "source": [
        "RBF Kernel, even weight:"
      ]
    },
    {
      "cell_type": "code",
      "metadata": {
        "colab": {
          "base_uri": "https://localhost:8080/"
        },
        "id": "asbMo27DfX2C",
        "outputId": "51df58b2-7792-4663-dd20-cfc64397cebb"
      },
      "source": [
        "from sklearn import svm\n",
        "svc = svm.SVC().fit(X_train_small, y_train_small)\n",
        "y_pred_small = svc.predict(X_val_small)\n",
        "val_acc = accuracy_score(y_pred_small, y_val_small)\n",
        "train_acc = accuracy_score(y_train_small, svc.predict(X_train_small))\n",
        "print(f\"training accuracy for RBF kernel SVM: {train_acc}\")\n",
        "print(f\"validation accuracy for RBF kernel SVM: {val_acc}\")"
      ],
      "execution_count": null,
      "outputs": [
        {
          "output_type": "stream",
          "text": [
            "training accuracy for RBF kernel SVM: 0.7151905097014175\n",
            "validation accuracy for RBF kernel SVM: 0.7171615500754907\n"
          ],
          "name": "stdout"
        }
      ]
    },
    {
      "cell_type": "markdown",
      "metadata": {
        "id": "x7XX5ePu3Wks"
      },
      "source": [
        "RBF Kernel, balanced weight:"
      ]
    },
    {
      "cell_type": "code",
      "metadata": {
        "colab": {
          "background_save": true
        },
        "id": "ECBu9CX23Yck",
        "outputId": "df4cd081-a79f-4992-d831-baf2cecdff3a"
      },
      "source": [
        "from sklearn import svm\n",
        "svc = svm.SVC(class_weight='balanced').fit(X_train_small, y_train_small)\n",
        "y_pred_small = svc.predict(X_val_small)\n",
        "val_acc = accuracy_score(y_pred_small, y_val_small)\n",
        "train_acc = accuracy_score(y_train_small, svc.predict(X_train_small))\n",
        "print(f\"training accuracy for balanced RBF kernel SVM: {train_acc}\")\n",
        "print(f\"validation accuracy for balanced RBF kernel SVM: {val_acc}\")"
      ],
      "execution_count": null,
      "outputs": [
        {
          "output_type": "stream",
          "text": [
            "training accuracy for balanced RBF kernel SVM: 0.7151905097014175\n",
            "validation accuracy for balanced RBF kernel SVM: 0.7174131857070961\n"
          ],
          "name": "stdout"
        }
      ]
    },
    {
      "cell_type": "markdown",
      "metadata": {
        "id": "QBuWXd1Lx5B_"
      },
      "source": [
        "Linear Kernel, even weight:"
      ]
    },
    {
      "cell_type": "code",
      "metadata": {
        "colab": {
          "background_save": true
        },
        "id": "weyP2Ea8x8bF",
        "outputId": "e246e588-eb60-4404-e50d-3f5a19b7bae0"
      },
      "source": [
        "svc = svm.SVC(kernel='linear').fit(X_train_small, y_train_small)\n",
        "y_pred_small = svc.predict(X_val_small)\n",
        "val_acc = accuracy_score(y_pred_small, y_val_small)\n",
        "train_acc = accuracy_score(y_train_small, svc.predict(X_train_small))\n",
        "print(f\"training accuracy for linear kernel SVM: {train_acc}\")\n",
        "print(f\"validation accuracy for linear kernel SVM: {val_acc}\")"
      ],
      "execution_count": null,
      "outputs": [
        {
          "output_type": "stream",
          "text": [
            "training accuracy for linear kernel SVM: 0.689051975469991\n",
            "validation accuracy for linear kernel SVM: 0.7088575742325113\n"
          ],
          "name": "stdout"
        }
      ]
    },
    {
      "cell_type": "markdown",
      "metadata": {
        "id": "NMasVCIB3jPD"
      },
      "source": [
        "Linear Kernel, balanced weight:"
      ]
    },
    {
      "cell_type": "code",
      "metadata": {
        "colab": {
          "background_save": true
        },
        "id": "u8r8oeLZ3mGW",
        "outputId": "8241007c-338c-4713-b655-5b2a9d2bdaeb"
      },
      "source": [
        "svc = svm.SVC(kernel='linear', class_weight='balanced').fit(X_train_small, y_train_small)\n",
        "y_pred_small = svc.predict(X_val_small)\n",
        "val_acc = accuracy_score(y_pred_small, y_val_small)\n",
        "train_acc = accuracy_score(y_train_small, svc.predict(X_train_small))\n",
        "print(f\"training accuracy for balanced linear kernel SVM: {train_acc}\")\n",
        "print(f\"validation accuracy for balanced linear kernel SVM: {val_acc}\")"
      ],
      "execution_count": null,
      "outputs": [
        {
          "output_type": "stream",
          "text": [
            "training accuracy for balanced linear kernel SVM: 0.6887503769980898\n",
            "validation accuracy for balanced linear kernel SVM: 0.7088575742325113\n"
          ],
          "name": "stdout"
        }
      ]
    },
    {
      "cell_type": "markdown",
      "metadata": {
        "id": "iH24gZmfyHQX"
      },
      "source": [
        "Polynomial Kernel:"
      ]
    },
    {
      "cell_type": "code",
      "metadata": {
        "colab": {
          "background_save": true
        },
        "id": "xqhxDSz0yG1L",
        "outputId": "d890bc02-178c-43b1-bc2b-959f5802996c"
      },
      "source": [
        "svc = svm.SVC(kernel='poly').fit(X_train_small, y_train_small)\n",
        "y_pred_small = svc.predict(X_val_small)\n",
        "val_acc = accuracy_score(y_pred_small, y_val_small)\n",
        "train_acc = accuracy_score(y_train_small, svc.predict(X_train_small))\n",
        "print(f\"training accuracy for polynomial kernel SVM: {train_acc}\")\n",
        "print(f\"validation accuracy for polynomial kernel SVM: {val_acc}\")"
      ],
      "execution_count": null,
      "outputs": [
        {
          "output_type": "stream",
          "text": [
            "training accuracy for polynomial kernel SVM: 0.716899567708857\n",
            "validation accuracy for polynomial kernel SVM: 0.7093608454957222\n"
          ],
          "name": "stdout"
        }
      ]
    },
    {
      "cell_type": "markdown",
      "metadata": {
        "id": "s6xleLs83ua7"
      },
      "source": [
        "Polynomial Kernel, balanced weight:"
      ]
    },
    {
      "cell_type": "code",
      "metadata": {
        "colab": {
          "background_save": true
        },
        "id": "Ju4t2lAF3t72",
        "outputId": "8a0aecdc-d713-4668-c9d3-6249199bbc5c"
      },
      "source": [
        "svc = svm.SVC(kernel='poly', class_weight='balanced').fit(X_train_small, y_train_small)\n",
        "y_pred_small = svc.predict(X_val_small)\n",
        "val_acc = accuracy_score(y_pred_small, y_val_small)\n",
        "train_acc = accuracy_score(y_train_small, svc.predict(X_train_small))\n",
        "print(f\"training accuracy for polynomial kernel SVM: {train_acc}\")\n",
        "print(f\"validation accuracy for polynomial kernel SVM: {val_acc}\")"
      ],
      "execution_count": null,
      "outputs": [
        {
          "output_type": "stream",
          "text": [
            "training accuracy for polynomial kernel SVM: 0.716899567708857\n",
            "validation accuracy for polynomial kernel SVM: 0.7096124811273277\n"
          ],
          "name": "stdout"
        }
      ]
    },
    {
      "cell_type": "markdown",
      "metadata": {
        "id": "6pdtCDpj2Kdt"
      },
      "source": [
        "Model Chosen: Polynomial, even"
      ]
    },
    {
      "cell_type": "code",
      "metadata": {
        "id": "y9kJzmRp2JyG"
      },
      "source": [
        "svc = svm.SVC(kernel='rbf').fit(X_train, y_train)\n",
        "test_acc = accuracy_score(y_test, svc.predict(X_test))\n",
        "print(f\"test accuracy for polynomial kernel SVM: {test_acc}\")"
      ],
      "execution_count": null,
      "outputs": []
    },
    {
      "cell_type": "markdown",
      "metadata": {
        "id": "O2uDiURDEPaw"
      },
      "source": [
        "# Decision Tree"
      ]
    },
    {
      "cell_type": "code",
      "metadata": {
        "colab": {
          "base_uri": "https://localhost:8080/"
        },
        "id": "cQKD7w1KEV85",
        "outputId": "36584247-5499-467a-de93-353f3388854c"
      },
      "source": [
        "from sklearn import tree\n",
        "\n",
        "max_depth = [3, 5, 7, 9, 11, 13]\n",
        "train_accs = []\n",
        "val_accs = []\n",
        "for depth in max_depth:\n",
        "  dt = tree.DecisionTreeClassifier(max_depth=depth).fit(X_train, y_train)\n",
        "  train_acc = accuracy_score(y_train, dt.predict(X_train))\n",
        "  val_acc = accuracy_score(y_val, dt.predict(X_val))\n",
        "  train_accs.append(train_acc)\n",
        "  val_accs.append(val_acc)\n",
        "\n",
        "print(train_accs)\n",
        "print(val_accs)"
      ],
      "execution_count": null,
      "outputs": [
        {
          "output_type": "stream",
          "text": [
            "[0.604551762978458, 0.6294426453728101, 0.6503208158175272, 0.6803910131343404, 0.7236257215841664, 0.7822676348130418]\n",
            "[0.605755685248541, 0.6122459247333467, 0.6212517609176896, 0.6231636144093379, 0.6230126786073656, 0.6146608975649024]\n"
          ],
          "name": "stdout"
        }
      ]
    },
    {
      "cell_type": "code",
      "metadata": {
        "colab": {
          "base_uri": "https://localhost:8080/"
        },
        "id": "nmWnZ9WcIcV9",
        "outputId": "61f185c8-f468-4ec3-d6fc-d85e664969db"
      },
      "source": [
        "dt = tree.DecisionTreeClassifier(max_depth=9).fit(X_train, y_train)\n",
        "train_acc = accuracy_score(y_train, dt.predict(X_train))\n",
        "test_acc = accuracy_score(y_test, dt.predict(X_test))\n",
        "print(f\"training accuracy for decision tree: {train_acc}\")\n",
        "print(f\"test accuracy for decision tree: {test_acc}\")"
      ],
      "execution_count": null,
      "outputs": [
        {
          "output_type": "stream",
          "text": [
            "training accuracy for decision tree: 0.68040107005652\n",
            "test accuracy for decision tree: 0.6353349426674714\n"
          ],
          "name": "stdout"
        }
      ]
    },
    {
      "cell_type": "code",
      "metadata": {
        "colab": {
          "base_uri": "https://localhost:8080/",
          "height": 302
        },
        "id": "jwM5bbcEx4YM",
        "outputId": "7f13c0f3-30bb-4abc-9158-1cd7853e7f98"
      },
      "source": [
        "plt.plot(max_depth, val_accs)\n",
        "plt.xlabel(\"max depth\")\n",
        "plt.ylabel(\"validation accuracy\")"
      ],
      "execution_count": null,
      "outputs": [
        {
          "output_type": "execute_result",
          "data": {
            "text/plain": [
              "Text(0, 0.5, 'validation accuracy')"
            ]
          },
          "metadata": {
            "tags": []
          },
          "execution_count": 34
        },
        {
          "output_type": "display_data",
          "data": {
            "image/png": "[encoded data removed]",
            "text/plain": [
              "<Figure size 432x288 with 1 Axes>"
            ]
          },
          "metadata": {
            "tags": []
          }
        }
      ]
    },
    {
      "cell_type": "markdown",
      "metadata": {
        "id": "iB0F-yhYxqf5"
      },
      "source": [
        "# Random Forest\n"
      ]
    },
    {
      "cell_type": "code",
      "metadata": {
        "colab": {
          "base_uri": "https://localhost:8080/"
        },
        "id": "64bwjIxWxuhD",
        "outputId": "48656cbf-407c-4438-8ac1-f30ca5709415"
      },
      "source": [
        "from sklearn.ensemble import RandomForestRegressor\n",
        "rf = RandomForestRegressor(n_estimators = 10).fit(X_train, y_train)\n",
        "train_predicted = rf.predict(X_train)\n",
        "test_predicted = rf.predict(X_test)\n",
        "train_predicted = np.array([int(round(item)) for item in train_predicted.tolist()])\n",
        "test_predicted = np.array([int(round(item)) for item in test_predicted.tolist()])\n",
        "train_acc = accuracy_score(y_train, train_predicted)\n",
        "test_acc = accuracy_score(y_test, test_predicted)\n",
        "print(f\"training accuracy for random forest: {train_acc}\")\n",
        "print(f\"test accuracy for random forest: {test_acc}\")"
      ],
      "execution_count": null,
      "outputs": [
        {
          "output_type": "stream",
          "text": [
            "training accuracy for random forest: 0.9825512400185047\n",
            "test accuracy for random forest: 0.642174612753973\n"
          ],
          "name": "stdout"
        }
      ]
    },
    {
      "cell_type": "markdown",
      "metadata": {
        "id": "1zZ9xkhBFfzr"
      },
      "source": [
        "# AdaBoost"
      ]
    },
    {
      "cell_type": "code",
      "metadata": {
        "colab": {
          "base_uri": "https://localhost:8080/",
          "height": 302
        },
        "id": "PRfx3mj2hHi4",
        "outputId": "c9e7a628-cef7-43d1-87f1-a8c7325742a6"
      },
      "source": [
        "from sklearn.ensemble import AdaBoostClassifier\n",
        "n_est = [50, 100, 150, 200]\n",
        "train_accs = []\n",
        "val_accs = []\n",
        "\n",
        "for n_estimators in n_est:\n",
        "  ada = AdaBoostClassifier(n_estimators=n_estimators).fit(X_train_small, y_train_small)\n",
        "  train_acc = accuracy_score(y_train_small, ada.predict(X_train_small))\n",
        "  val_acc = accuracy_score(y_val_small, ada.predict(X_val_small))\n",
        "  \n",
        "  train_accs.append(train_acc)\n",
        "  val_accs.append(val_acc)\n",
        "\n",
        "plt.plot(n_est, val_accs)\n",
        "plt.xlabel(\"number of estimators\")\n",
        "plt.ylabel(\"validation accuracy\")"
      ],
      "execution_count": null,
      "outputs": [
        {
          "output_type": "execute_result",
          "data": {
            "text/plain": [
              "Text(0, 0.5, 'validation accuracy')"
            ]
          },
          "metadata": {
            "tags": []
          },
          "execution_count": 32
        },
        {
          "output_type": "display_data",
          "data": {
            "image/png": "[encoded data removed]",
            "text/plain": [
              "<Figure size 432x288 with 1 Axes>"
            ]
          },
          "metadata": {
            "tags": [],
            "needs_background": "light"
          }
        }
      ]
    },
    {
      "cell_type": "code",
      "metadata": {
        "colab": {
          "base_uri": "https://localhost:8080/"
        },
        "id": "IMaY2VULkzJL",
        "outputId": "9754c9ad-e238-4547-8e69-b99b8f5a3cb0"
      },
      "source": [
        "print(train_accs)\n",
        "print(val_accs)"
      ],
      "execution_count": null,
      "outputs": [
        {
          "output_type": "stream",
          "text": [
            "[0.678228522595888, 0.6915497913839039, 0.7002463178002313, 0.7041672950284019]\n",
            "[0.6850175967823027, 0.6913021618903972, 0.6897938662644545, 0.6900452488687783]\n"
          ],
          "name": "stdout"
        }
      ]
    },
    {
      "cell_type": "code",
      "metadata": {
        "colab": {
          "base_uri": "https://localhost:8080/"
        },
        "id": "Vve3-NouFjOy",
        "outputId": "8b596675-4e19-4238-d75b-8e2ca7d3fa73"
      },
      "source": [
        "from sklearn.ensemble import AdaBoostClassifier\n",
        "\n",
        "ada = AdaBoostClassifier(n_estimators=100).fit(X_train, y_train)\n",
        "train_acc = accuracy_score(y_train, ada.predict(X_train))\n",
        "test_acc = accuracy_score(y_test, ada.predict(X_test))\n",
        "\n",
        "print(f\"training accuracy for AdaBoost: {train_acc}\")\n",
        "print(f\"test accuracy for AdaBoost: {test_acc}\")"
      ],
      "execution_count": null,
      "outputs": [
        {
          "output_type": "stream",
          "text": [
            "training accuracy for AdaBoost: 0.6742462336826438\n",
            "test accuracy for AdaBoost: 0.6588211627439147\n"
          ],
          "name": "stdout"
        }
      ]
    },
    {
      "cell_type": "markdown",
      "metadata": {
        "id": "4dxYAtIkvpQC"
      },
      "source": [
        "# LSTM"
      ]
    },
    {
      "cell_type": "markdown",
      "metadata": {
        "id": "QsD-BzPYnG3_"
      },
      "source": [
        "## Constructing LSTM"
      ]
    },
    {
      "cell_type": "code",
      "metadata": {
        "id": "3H13vfT_m7fm"
      },
      "source": [
        "import torch\n",
        "import torch.nn as nn\n",
        "from torch.utils.data import TensorDataset, DataLoader\n",
        "from sklearn.preprocessing import StandardScaler\n",
        "from sklearn.metrics import accuracy_score\n",
        "from sklearn.preprocessing import OneHotEncoder"
      ],
      "execution_count": null,
      "outputs": []
    },
    {
      "cell_type": "code",
      "metadata": {
        "colab": {
          "base_uri": "https://localhost:8080/"
        },
        "id": "1eNPPCw1b5qY",
        "outputId": "da7fae91-7c2a-470d-fc9d-916d82c38d12"
      },
      "source": [
        "# get a list of words by appending everything in the train and test dfs\n",
        "word_list = []\n",
        "train_list = []\n",
        "test_list = []\n",
        "maxlength = 0\n",
        "len_sum = 0\n",
        "word_list.append(\" \")\n",
        "for i in range(len(train_small_df)):\n",
        "  sublist = train_df.iloc[i][2]\n",
        "  train_list.append(sublist)\n",
        "  len_sum += len(sublist)\n",
        "  if len(sublist) > maxlength:\n",
        "    maxlength = len(sublist)\n",
        "  for j in range(len(sublist)):\n",
        "    word_list.append(sublist[j])\n",
        "for i in range(len(test_small_df)):\n",
        "  sublist = test_df.iloc[i][2]\n",
        "  test_list.append(sublist)\n",
        "  if len(sublist) > maxlength:\n",
        "    maxlength = len(sublist)\n",
        "  for j in range(len(sublist)):\n",
        "    word_list.append(sublist[j])\n",
        "print(len(word_list))\n",
        "print(maxlength)\n",
        "print(len(train_list))\n",
        "print(len(test_list))\n",
        "print(f\"avg_length:{len_sum / len(train_small_df)}\")"
      ],
      "execution_count": null,
      "outputs": [
        {
          "output_type": "stream",
          "text": [
            "237041\n",
            "58\n",
            "20000\n",
            "4000\n",
            "avg_length:9.87425\n"
          ],
          "name": "stdout"
        }
      ]
    },
    {
      "cell_type": "code",
      "metadata": {
        "colab": {
          "base_uri": "https://localhost:8080/"
        },
        "id": "CQmFDVKZbr1r",
        "outputId": "70f95c68-a76d-4b5f-9f9a-d408f4fecc3e"
      },
      "source": [
        "# construct a dictionary out of the list of words so that each word corresponds\n",
        "# to an integer\n",
        "word_dict = dict.fromkeys(word_list)\n",
        "value_list = []\n",
        "for i in range(len(word_dict)):\n",
        "  value_list.append(i)\n",
        "word_dict = dict(zip(word_dict, value_list))\n",
        "input_size = len(word_dict)\n",
        "print(len(word_dict))\n",
        "word_dict"
      ],
      "execution_count": null,
      "outputs": [
        {
          "output_type": "stream",
          "text": [
            "23412\n"
          ],
          "name": "stdout"
        },
        {
          "output_type": "execute_result",
          "data": {
            "text/plain": [
              "{' ': 0,\n",
              " 'small': 1,\n",
              " 'slip': 2,\n",
              " 'tryfan': 3,\n",
              " 'week': 4,\n",
              " 'back': 5,\n",
              " ',': 6,\n",
              " 'felt': 7,\n",
              " 'side': 8,\n",
              " 'pull': 9,\n",
              " 'didnt': 10,\n",
              " 'think': 11,\n",
              " 'wa': 12,\n",
              " 'bad': 13,\n",
              " '.': 14,\n",
              " 'muscle': 15,\n",
              " 'went': 16,\n",
              " 'ribs': 17,\n",
              " '2': 18,\n",
              " 'post': 19,\n",
              " 'han': 20,\n",
              " 'want': 21,\n",
              " \"'s\": 22,\n",
              " 'great': 23,\n",
              " '!': 24,\n",
              " 'still': 25,\n",
              " 'working': 26,\n",
              " 'tld': 27,\n",
              " 'though': 28,\n",
              " 'got': 29,\n",
              " 'little': 30,\n",
              " 'distracted': 31,\n",
              " 'sorry': 32,\n",
              " 'ohh': 33,\n",
              " 'poor': 34,\n",
              " 'jan': 35,\n",
              " 'please': 36,\n",
              " 'tell': 37,\n",
              " 'cans': 38,\n",
              " 'send': 39,\n",
              " 'u': 40,\n",
              " 'email': 41,\n",
              " 'finally': 42,\n",
              " 'home': 43,\n",
              " 'work': 44,\n",
              " '...': 45,\n",
              " 'looong': 46,\n",
              " 'day': 47,\n",
              " 'monday': 48,\n",
              " 'im': 49,\n",
              " 'sad': 50,\n",
              " '4': 51,\n",
              " 'chantelle': 52,\n",
              " 'tom': 53,\n",
              " 'chatted': 54,\n",
              " 'someone': 55,\n",
              " 'online': 56,\n",
              " 'apple': 57,\n",
              " 'store': 58,\n",
              " 'said': 59,\n",
              " 'would': 60,\n",
              " 'better': 61,\n",
              " 'buy': 62,\n",
              " 'new': 63,\n",
              " 'one': 64,\n",
              " \"n't\": 65,\n",
              " '$': 66,\n",
              " '200': 67,\n",
              " 'waste': 68,\n",
              " 'office': 69,\n",
              " 'empty': 70,\n",
              " 'aircon': 71,\n",
              " 'water': 72,\n",
              " 'tank': 73,\n",
              " 'give': 74,\n",
              " 'much': 75,\n",
              " 'time': 76,\n",
              " 'reflection': 77,\n",
              " 'late': 78,\n",
              " 'however': 79,\n",
              " 'really': 80,\n",
              " 'happy': 81,\n",
              " 'ca': 82,\n",
              " 'connect': 83,\n",
              " 'missing': 84,\n",
              " '20yr': 85,\n",
              " 'old': 86,\n",
              " 'baby-moved': 87,\n",
              " 'ur': 88,\n",
              " 'bro': 89,\n",
              " '?': 90,\n",
              " 'mine': 91,\n",
              " '15': 92,\n",
              " 'happened': 93,\n",
              " 'looked': 94,\n",
              " 'horrible': 95,\n",
              " 'accident': 96,\n",
              " 'miss': 97,\n",
              " 'caitlin': 98,\n",
              " 'already': 99,\n",
              " \"'m\": 100,\n",
              " 'bored': 101,\n",
              " 'dr': 102,\n",
              " 'mommy': 103,\n",
              " 'jeremy': 104,\n",
              " 'far': 105,\n",
              " 'away': 106,\n",
              " 'nothing': 107,\n",
              " 'fucking': 108,\n",
              " 'tv': 109,\n",
              " 'watch': 110,\n",
              " 'hate': 111,\n",
              " 'ipod': 112,\n",
              " 'imac': 113,\n",
              " 'god': 114,\n",
              " 'damn': 115,\n",
              " 'phone': 116,\n",
              " 'falling': 117,\n",
              " 'fuck': 118,\n",
              " 'apart': 119,\n",
              " 'gon': 120,\n",
              " 'na': 121,\n",
              " 'dog': 122,\n",
              " '&': 123,\n",
              " 'lt': 124,\n",
              " ';': 125,\n",
              " '3': 126,\n",
              " 'forgot': 127,\n",
              " 'eat': 128,\n",
              " 'cooky': 129,\n",
              " 'barn': 130,\n",
              " 'today': 131,\n",
              " 'travesty': 132,\n",
              " 'walk': 133,\n",
              " 'anymore': 134,\n",
              " 'say': 135,\n",
              " 'hot': 136,\n",
              " 'haha': 137,\n",
              " 'wish': 138,\n",
              " 'sunny': 139,\n",
              " 'raining': 140,\n",
              " 'least': 141,\n",
              " 'week.i': 142,\n",
              " 'sick': 143,\n",
              " 'blocking': 144,\n",
              " 'followers': 145,\n",
              " 'annoys': 146,\n",
              " 'xx': 147,\n",
              " 'foothill': 148,\n",
              " 'brewing': 149,\n",
              " 'co.': 150,\n",
              " 'left': 151,\n",
              " 'i.d': 152,\n",
              " 'hotel': 153,\n",
              " 'room': 154,\n",
              " 'oh': 155,\n",
              " 'well': 156,\n",
              " 'drinking': 157,\n",
              " 'beer': 158,\n",
              " 'anyway': 159,\n",
              " 'ha': 160,\n",
              " 'sensible': 161,\n",
              " 'thing': 162,\n",
              " 'like': 163,\n",
              " 'could': 164,\n",
              " 'understand': 165,\n",
              " 'word': 166,\n",
              " \"'d\": 167,\n",
              " 'prefer': 168,\n",
              " 'whole': 169,\n",
              " 'host': 170,\n",
              " 'symptom': 171,\n",
              " 'beside': 172,\n",
              " 'constant': 173,\n",
              " 'nausea': 174,\n",
              " 'last': 175,\n",
              " 'weeks': 176,\n",
              " 'omg': 177,\n",
              " 'finished': 178,\n",
              " 'writing': 179,\n",
              " 'name': 180,\n",
              " 'absolutely': 181,\n",
              " 'killing': 182,\n",
              " 'wage': 183,\n",
              " 'stole': 184,\n",
              " 'tyler': 185,\n",
              " 'rock': 186,\n",
              " 'idk': 187,\n",
              " 'wat': 188,\n",
              " 'saw': 189,\n",
              " 'video': 190,\n",
              " 'neda': 191,\n",
              " 'lord': 192,\n",
              " 'going': 193,\n",
              " 'bed': 194,\n",
              " 'dull': 195,\n",
              " 'feeling': 196,\n",
              " 'warm': 197,\n",
              " 'tonight': 198,\n",
              " 'fucked': 199,\n",
              " 'messing': 200,\n",
              " 'around': 201,\n",
              " 'coldblooded': 202,\n",
              " 'make': 203,\n",
              " 'tummy': 204,\n",
              " 'dont': 205,\n",
              " 'look': 206,\n",
              " 'twitter': 207,\n",
              " 'spoiled': 208,\n",
              " 'since': 209,\n",
              " 'totally': 210,\n",
              " 'layoffs': 211,\n",
              " 'hear': 212,\n",
              " 'kno': 213,\n",
              " 'feel': 214,\n",
              " 'lost': 215,\n",
              " 'voice': 216,\n",
              " 'night': 217,\n",
              " 'annoying': 218,\n",
              " 'wan': 219,\n",
              " 'call': 220,\n",
              " 'some1': 221,\n",
              " 'n': 222,\n",
              " 'stuff': 223,\n",
              " 'died': 224,\n",
              " 'forever': 225,\n",
              " 'exactly': 226,\n",
              " 'called': 227,\n",
              " \"'ve\": 228,\n",
              " 'requested': 229,\n",
              " '6': 230,\n",
              " 'bunch': 231,\n",
              " 'original': 232,\n",
              " 'others': 233,\n",
              " 'yay': 234,\n",
              " 'foo': 235,\n",
              " 'velocityconf': 236,\n",
              " 'know': 237,\n",
              " 'intimidate': 238,\n",
              " 'heck': 239,\n",
              " 'done': 240,\n",
              " 'five': 241,\n",
              " 'amp': 242,\n",
              " 'g': 243,\n",
              " 'never': 244,\n",
              " 'spoken': 245,\n",
              " 'tried': 246,\n",
              " '-': 247,\n",
              " 'upload': 248,\n",
              " 'animated': 249,\n",
              " 'gifs': 250,\n",
              " 'icon': 251,\n",
              " 'background': 252,\n",
              " 'anyone': 253,\n",
              " 'need': 254,\n",
              " 'hang': 255,\n",
              " 'cough': 256,\n",
              " 'session': 257,\n",
              " 'end': 258,\n",
              " 'doe': 259,\n",
              " 'take': 260,\n",
              " 'car': 261,\n",
              " 'garage': 262,\n",
              " '2morro': 263,\n",
              " 'gunna': 264,\n",
              " 'cost': 265,\n",
              " 'times': 266,\n",
              " 'hoping': 267,\n",
              " 'try': 268,\n",
              " 'looking': 269,\n",
              " 'forward': 270,\n",
              " 'playing': 271,\n",
              " 'quot': 272,\n",
              " 'find': 273,\n",
              " 'poop': 274,\n",
              " '2mrow': 275,\n",
              " 'woman': 276,\n",
              " 'hide': 277,\n",
              " 'poo': 278,\n",
              " 'wee': 279,\n",
              " 'package': 280,\n",
              " 'life': 281,\n",
              " 'first': 282,\n",
              " 'come': 283,\n",
              " 'immediately': 284,\n",
              " 'collapse': 285,\n",
              " 'chore': 286,\n",
              " 'people': 287,\n",
              " 'put': 288,\n",
              " 'music': 289,\n",
              " 'hey': 290,\n",
              " 'itunes': 291,\n",
              " 'anytime': 292,\n",
              " 'soon': 293,\n",
              " 'play': 294,\n",
              " 'long': 295,\n",
              " 'brother': 296,\n",
              " 'sister': 297,\n",
              " 'always': 298,\n",
              " 'cant': 299,\n",
              " 'wait': 300,\n",
              " 'see': 301,\n",
              " 'found': 302,\n",
              " 'daughter': 303,\n",
              " 'allergic': 304,\n",
              " 'jell-o': 305,\n",
              " 'sore': 306,\n",
              " 'throat': 307,\n",
              " 'capote': 308,\n",
              " 'traumatized': 309,\n",
              " 'sooooo': 310,\n",
              " 'upset': 311,\n",
              " 'step-': 312,\n",
              " 'mom': 313,\n",
              " 'dad': 314,\n",
              " 'good': 315,\n",
              " 'friend': 316,\n",
              " 'soooo': 317,\n",
              " 'sooo': 318,\n",
              " 'awesome': 319,\n",
              " 'nice': 320,\n",
              " 'sweet': 321,\n",
              " 'wreck': 322,\n",
              " 'hulk': 323,\n",
              " 'hogan': 324,\n",
              " 'riding': 325,\n",
              " 'bike': 326,\n",
              " 'pelican': 327,\n",
              " 'bay': 328,\n",
              " 'allison': 329,\n",
              " 'slow': 330,\n",
              " 'picture': 331,\n",
              " 'yeah': 332,\n",
              " 'iam': 333,\n",
              " 'thinking': 334,\n",
              " 'way': 335,\n",
              " 'talking': 336,\n",
              " 'thanks': 337,\n",
              " 'getting': 338,\n",
              " 'mail': 339,\n",
              " 'response': 340,\n",
              " 'tweets': 341,\n",
              " 'wishing': 342,\n",
              " '*so*': 343,\n",
              " 'tapazole': 344,\n",
              " 'soccer': 345,\n",
              " 'game': 346,\n",
              " 'bar': 347,\n",
              " 'rip': 348,\n",
              " 'tiki': 349,\n",
              " 'btw': 350,\n",
              " 'yes': 351,\n",
              " 'ghost': 352,\n",
              " 'right': 353,\n",
              " 'vacation': 354,\n",
              " '(': 355,\n",
              " ')': 356,\n",
              " 'may': 357,\n",
              " 'fair': 358,\n",
              " 'wanted': 359,\n",
              " 'instead': 360,\n",
              " 'huge': 361,\n",
              " 'banana': 362,\n",
              " 'thingymahjig': 363,\n",
              " 'sight': 364,\n",
              " 'coming': 365,\n",
              " 'soooonnnnn': 366,\n",
              " 'go': 367,\n",
              " 'comic': 368,\n",
              " 'con': 369,\n",
              " 'year': 370,\n",
              " '.sold': 371,\n",
              " 'fast': 372,\n",
              " 'fyi': 373,\n",
              " 'breakin': 374,\n",
              " 'chris': 375,\n",
              " 'brown': 376,\n",
              " 'flu': 377,\n",
              " 'worst': 378,\n",
              " 'betch': 379,\n",
              " 'finish': 380,\n",
              " 'gone': 381,\n",
              " 'sister..': 382,\n",
              " 'another': 383,\n",
              " 'job': 384,\n",
              " 'summer': 385,\n",
              " 'tho': 386,\n",
              " 'workin': 387,\n",
              " 'al': 388,\n",
              " 'leave': 389,\n",
              " 'second': 390,\n",
              " 'place': 391,\n",
              " 'shorter': 392,\n",
              " 'hubby': 393,\n",
              " 'isnt': 394,\n",
              " 'ina': 395,\n",
              " 'gud': 396,\n",
              " 'mood': 397,\n",
              " 'dere': 398,\n",
              " 'comfort': 399,\n",
              " 'listen': 400,\n",
              " 'talk': 401,\n",
              " 'love': 402,\n",
              " 'lol': 403,\n",
              " '8900': 404,\n",
              " 'iphone': 405,\n",
              " 'weekend': 406,\n",
              " ':': 407,\n",
              " 'l': 408,\n",
              " 'tiredddd': 409,\n",
              " 'sleep': 410,\n",
              " 'bizzle': 411,\n",
              " 'p': 412,\n",
              " 'x': 413,\n",
              " 'freddy': 414,\n",
              " 'fish': 415,\n",
              " 'get': 416,\n",
              " 'together': 417,\n",
              " 'jobs': 418,\n",
              " 'betty': 419,\n",
              " 'adopted': 420,\n",
              " 'noooooo': 421,\n",
              " 'jon': 422,\n",
              " 'kate': 423,\n",
              " 'divorce': 424,\n",
              " 'worry': 425,\n",
              " 'child': 426,\n",
              " 'omgggggggg': 427,\n",
              " \"'ll\": 428,\n",
              " 'tomorrow': 429,\n",
              " 'ahh': 430,\n",
              " 'lovee': 431,\n",
              " 'thaa': 432,\n",
              " 'no-oone': 433,\n",
              " 'london': 434,\n",
              " 'crushed': 435,\n",
              " 'dreeeeemz': 436,\n",
              " '1': 437,\n",
              " 'bout': 438,\n",
              " 'head': 439,\n",
              " 'show': 440,\n",
              " 'afterwards': 441,\n",
              " 'tired': 442,\n",
              " 'hell': 443,\n",
              " 'form': 444,\n",
              " 'school': 445,\n",
              " 'gp': 446,\n",
              " 'bigg': 447,\n",
              " 'high': 448,\n",
              " 'scared': 449,\n",
              " 'next': 450,\n",
              " 'prom': 451,\n",
              " 'dress': 452,\n",
              " 'shopping': 453,\n",
              " 'seen': 454,\n",
              " 'years': 455,\n",
              " 'blame': 456,\n",
              " 'frilly': 457,\n",
              " 'used': 458,\n",
              " 'nooo': 459,\n",
              " 'plz': 460,\n",
              " 'gay': 461,\n",
              " '..': 462,\n",
              " 'straight': 463,\n",
              " 'guy': 464,\n",
              " 'follower': 465,\n",
              " 'every': 466,\n",
              " 'issue': 467,\n",
              " 'devin': 468,\n",
              " '.exam': 469,\n",
              " 'pressure': 470,\n",
              " 'even': 471,\n",
              " 'faq': 472,\n",
              " 'win': 473,\n",
              " 'humid': 474,\n",
              " 'mad': 475,\n",
              " 'stereotyped': 476,\n",
              " 'texan': 477,\n",
              " 'big': 478,\n",
              " 'hair': 479,\n",
              " 'drawl': 480,\n",
              " 'blah': 481,\n",
              " 'chicken': 482,\n",
              " 'sound': 483,\n",
              " 'friday': 484,\n",
              " 'page': 485,\n",
              " '8': 486,\n",
              " 'paper': 487,\n",
              " 'due': 488,\n",
              " \"'re\": 489,\n",
              " 'welcome': 490,\n",
              " 'crash': 491,\n",
              " 'speech': 492,\n",
              " 'english': 493,\n",
              " 'wasnt': 494,\n",
              " 'forest': 495,\n",
              " 'gump': 496,\n",
              " 'ever': 497,\n",
              " 'cry': 498,\n",
              " 'notice': 499,\n",
              " 'lawyer': 500,\n",
              " 'f': 501,\n",
              " '@': 502,\n",
              " 'ked': 503,\n",
              " 'ross': 504,\n",
              " 'beat': 505,\n",
              " 'kill': 506,\n",
              " 'em': 507,\n",
              " 'ridiculously': 508,\n",
              " 'heartbroken': 509,\n",
              " 'divorcing': 510,\n",
              " 'knew': 511,\n",
              " 'neever': 512,\n",
              " 'luckily': 513,\n",
              " 'eph': 514,\n",
              " 'fun': 515,\n",
              " 'mopey': 516,\n",
              " 'lot': 517,\n",
              " 'hating': 518,\n",
              " 'dammit': 519,\n",
              " 'md': 520,\n",
              " 'tuesday': 521,\n",
              " 'derailed': 522,\n",
              " 'train': 523,\n",
              " 'keep': 524,\n",
              " 'fam': 525,\n",
              " 'prayers': 526,\n",
              " 'thats': 527,\n",
              " 'cause': 528,\n",
              " 'month': 529,\n",
              " 'buddy': 530,\n",
              " 'cheating': 531,\n",
              " 'skillet': 532,\n",
              " 'hero': 533,\n",
              " 'computer': 534,\n",
              " 'flash': 535,\n",
              " '=': 536,\n",
              " 'myspace': 537,\n",
              " '90210': 538,\n",
              " 'final': 539,\n",
              " 'episode': 540,\n",
              " 'two': 541,\n",
              " 'bntm': 542,\n",
              " 'holiday': 543,\n",
              " 'fatal': 544,\n",
              " 'metro': 545,\n",
              " 'dc': 546,\n",
              " 'rescuing': 547,\n",
              " 'weather': 548,\n",
              " 'nyc': 549,\n",
              " 'sucks': 550,\n",
              " 'cheap': 551,\n",
              " 'shit': 552,\n",
              " 'half': 553,\n",
              " '6.99': 554,\n",
              " 'tanks': 555,\n",
              " '2.99': 556,\n",
              " 'sunglasses': 557,\n",
              " '6.50': 558,\n",
              " 'scarves': 559,\n",
              " 'everytime': 560,\n",
              " 'singing': 561,\n",
              " 'lose': 562,\n",
              " 'okay': 563,\n",
              " 'pray': 564,\n",
              " 'confirming': 565,\n",
              " 'fatalities': 566,\n",
              " 'via': 567,\n",
              " 'tragic': 568,\n",
              " 'd.c': 569,\n",
              " 'live': 570,\n",
              " 'streaming': 571,\n",
              " 'collision': 572,\n",
              " 'redline': 573,\n",
              " 'hatred': 574,\n",
              " 'channel': 575,\n",
              " 'point': 576,\n",
              " 'brining': 577,\n",
              " 'attention': 578,\n",
              " '.and': 579,\n",
              " 'suck': 580,\n",
              " 'wtng': 581,\n",
              " 'doc': 582,\n",
              " 'test': 583,\n",
              " 'result': 584,\n",
              " 'scary': 585,\n",
              " 'cross': 586,\n",
              " 'fingers': 587,\n",
              " 'box': 588,\n",
              " 'mean': 589,\n",
              " 'hip': 590,\n",
              " 'hops': 591,\n",
              " 'breaks': 592,\n",
              " 'poles': 593,\n",
              " 'rofl': 594,\n",
              " 'ily': 595,\n",
              " 'best': 596,\n",
              " 'funny': 597,\n",
              " '17': 598,\n",
              " 'credit': 599,\n",
              " \"'cause\": 600,\n",
              " 'hurt': 601,\n",
              " 'pissed': 602,\n",
              " 'dialysis': 603,\n",
              " 'tomoz': 604,\n",
              " 'cupcake': 605,\n",
              " 'yummy': 606,\n",
              " 'nap': 607,\n",
              " 'dile': 608,\n",
              " 'sandy': 609,\n",
              " 'q': 610,\n",
              " 'cd': 611,\n",
              " 'xfissss': 612,\n",
              " 'si': 613,\n",
              " 'believe': 614,\n",
              " 'missed': 615,\n",
              " 'loose': 616,\n",
              " 'women': 617,\n",
              " 'stupid': 618,\n",
              " 'digi': 619,\n",
              " 'fault': 620,\n",
              " 'ive': 621,\n",
              " 'months': 622,\n",
              " 'filed': 623,\n",
              " 'wished': 624,\n",
              " 'kid': 625,\n",
              " 'book': 626,\n",
              " 'ugh': 627,\n",
              " 'window': 628,\n",
              " 'fixed': 629,\n",
              " 'retarded': 630,\n",
              " 'tinted': 631,\n",
              " 'baby': 632,\n",
              " 'ah1n1': 633,\n",
              " 'death': 634,\n",
              " 'philippine': 635,\n",
              " 'asia': 636,\n",
              " 'pre-existing': 637,\n",
              " 'illness': 638,\n",
              " 'bang': 639,\n",
              " 'short': 640,\n",
              " 'hi': 641,\n",
              " 'john': 642,\n",
              " 'sara': 643,\n",
              " 'told': 644,\n",
              " 'tears': 645,\n",
              " 'pick': 646,\n",
              " 'tutor': 647,\n",
              " 'enjoy': 648,\n",
              " 'wo': 649,\n",
              " 'able': 650,\n",
              " 'definitely': 651,\n",
              " 'swing': 652,\n",
              " 'pleaseeeeeeeeeeee': 653,\n",
              " 'replyyyyyyyyyyyy': 654,\n",
              " 'meeeeeeeee': 655,\n",
              " 'everthing': 656,\n",
              " 'pa': 657,\n",
              " 'poker': 658,\n",
              " 'face': 659,\n",
              " 'od': 660,\n",
              " 'obsessed': 661,\n",
              " 'lmao': 662,\n",
              " 'radio': 663,\n",
              " 'announced': 664,\n",
              " 'officially': 665,\n",
              " 'dunzo': 666,\n",
              " 'surgery': 667,\n",
              " 'boy': 668,\n",
              " 'sleeping': 669,\n",
              " '1230.': 670,\n",
              " 'longest': 671,\n",
              " 'thurs': 672,\n",
              " 'wake': 673,\n",
              " 'yikes': 674,\n",
              " 'enjoying': 675,\n",
              " 'blogging': 676,\n",
              " 'break': 677,\n",
              " 'blog': 678,\n",
              " 'ya': 679,\n",
              " 'tues': 680,\n",
              " 'men': 681,\n",
              " 'det': 682,\n",
              " 'finn': 683,\n",
              " 'ju': 684,\n",
              " 'inga': 685,\n",
              " 'satan': 686,\n",
              " 'bussrseor': 687,\n",
              " 'nã¥gonstans': 688,\n",
              " 'dear': 689,\n",
              " 'read': 690,\n",
              " 'today.not': 691,\n",
              " '290': 692,\n",
              " 'calorie': 693,\n",
              " 'chocolate': 694,\n",
              " 'chip': 695,\n",
              " 'cookie': 696,\n",
              " 'ate': 697,\n",
              " 'wrong': 698,\n",
              " 'seeing': 699,\n",
              " 'hangover': 700,\n",
              " 'again..': 701,\n",
              " 'helpppp': 702,\n",
              " 'facking': 703,\n",
              " 'idiot': 704,\n",
              " 'sometimes': 705,\n",
              " 'almost': 706,\n",
              " 'decided': 707,\n",
              " 'portland': 708,\n",
              " 'saturday': 709,\n",
              " 'super': 710,\n",
              " 'tickets': 711,\n",
              " 'cleaning': 712,\n",
              " 'taking': 713,\n",
              " 'scottie.b': 714,\n",
              " 'gt': 715,\n",
              " 'korean': 716,\n",
              " 'made': 717,\n",
              " 'coffee': 718,\n",
              " 'w/': 719,\n",
              " 'sugar': 720,\n",
              " 'honey': 721,\n",
              " 'man': 722,\n",
              " 'thought': 723,\n",
              " 'kaminey': 724,\n",
              " 'earlier': 725,\n",
              " 'migraine': 726,\n",
              " 'hairy': 727,\n",
              " 'painting': 728,\n",
              " 'gate': 729,\n",
              " 'green': 730,\n",
              " 'oil': 731,\n",
              " 'based': 732,\n",
              " 'paint': 733,\n",
              " 'easily': 734,\n",
              " 'beach': 735,\n",
              " 'la': 736,\n",
              " 'cupcakes': 737,\n",
              " 'realized': 738,\n",
              " 'icing': 739,\n",
              " 'hope': 740,\n",
              " 'sign': 741,\n",
              " 'art': 742,\n",
              " 'ride': 743,\n",
              " 'rained': 744,\n",
              " 'part': 745,\n",
              " 'girl': 746,\n",
              " 'river': 747,\n",
              " 'ahhhh': 748,\n",
              " '-ms.amy': 749,\n",
              " 'connie': 750,\n",
              " 'sm': 751,\n",
              " 'morning..': 752,\n",
              " 'laying': 753,\n",
              " 'hospital.oh': 754,\n",
              " 'let': 755,\n",
              " 'good..': 756,\n",
              " '650': 757,\n",
              " 'novel': 758,\n",
              " 'kind': 759,\n",
              " 'character': 760,\n",
              " 'kool': 761,\n",
              " 'watching': 762,\n",
              " 'kinda': 763,\n",
              " 'actually': 764,\n",
              " 'father': 765,\n",
              " 'drugs': 766,\n",
              " 'unfair': 767,\n",
              " 'everyone': 768,\n",
              " 'care': 769,\n",
              " 'laptop': 770,\n",
              " 'broke': 771,\n",
              " 'shouldnt': 772,\n",
              " 'aah': 773,\n",
              " 'ok': 774,\n",
              " ']': 775,\n",
              " 'stuck': 776,\n",
              " 'rush': 777,\n",
              " 'hour': 778,\n",
              " 'milwaukee': 779,\n",
              " 'traffic': 780,\n",
              " 'swim': 781,\n",
              " 'team': 782,\n",
              " 'practice': 783,\n",
              " 'early': 784,\n",
              " 'k': 785,\n",
              " 'w': 786,\n",
              " 'person': 787,\n",
              " 'bit': 788,\n",
              " 'wittle': 789,\n",
              " 'owwy': 790,\n",
              " 'unfortunately': 791,\n",
              " 'wallet': 792,\n",
              " 'retard': 793,\n",
              " 'hahah': 794,\n",
              " 'drove': 795,\n",
              " 'newport': 796,\n",
              " 'pouring': 797,\n",
              " 'starting': 798,\n",
              " 'swimming': 799,\n",
              " 'hahaha': 800,\n",
              " 'mac': 801,\n",
              " 'copy': 802,\n",
              " 'enough': 803,\n",
              " 'world': 804,\n",
              " 'problem': 805,\n",
              " 'begins': 806,\n",
              " 'toaster': 807,\n",
              " 'blew': 808,\n",
              " 'ship': 809,\n",
              " 'san': 810,\n",
              " 'francisco': 811,\n",
              " 'tour': 812,\n",
              " 'date': 813,\n",
              " 'cancelled': 814,\n",
              " 'disheartening': 815,\n",
              " 'turbulent': 816,\n",
              " 'news': 817,\n",
              " 'subway': 818,\n",
              " 'washington': 819,\n",
              " 'safari': 820,\n",
              " 'either': 821,\n",
              " 'ohhh': 822,\n",
              " 'sure': 823,\n",
              " 'tweeting': 824,\n",
              " 'fox': 825,\n",
              " 'etsy': 826,\n",
              " 'listing': 827,\n",
              " 'reconstructed': 828,\n",
              " 'simpson': 829,\n",
              " 'tee': 830,\n",
              " 'guess': 831,\n",
              " 'skirt': 832,\n",
              " 'uh': 833,\n",
              " 'ruined': 834,\n",
              " 'relationship': 835,\n",
              " 'crashed': 836,\n",
              " 'other-': 837,\n",
              " 'dead-': 838,\n",
              " 'injured': 839,\n",
              " 'cnn': 840,\n",
              " '500': 841,\n",
              " 'key': 842,\n",
              " 'woohoooooo': 843,\n",
              " 'wathin': 844,\n",
              " \"'\": 845,\n",
              " 'csi': 846,\n",
              " 'grissom': 847,\n",
              " 'run': 848,\n",
              " 'nah': 849,\n",
              " 'hospital': 850,\n",
              " 'night..': 851,\n",
              " 'emily': 852,\n",
              " 'pausing': 853,\n",
              " 'beaver': 854,\n",
              " 'shot': 855,\n",
              " 'quantum': 856,\n",
              " 'solace': 857,\n",
              " 'wearing': 858,\n",
              " 'panty': 859,\n",
              " 'bffs': 860,\n",
              " 'moved': 861,\n",
              " 'within': 862,\n",
              " 'past': 863,\n",
              " 'hmm': 864,\n",
              " 'report': 865,\n",
              " 'jury': 866,\n",
              " 'duty': 867,\n",
              " 'picked': 868,\n",
              " 'wednesday': 869,\n",
              " 'line': 870,\n",
              " 'crossed': 871,\n",
              " 'xxx': 872,\n",
              " 'yorkie': 873,\n",
              " '10pts': 874,\n",
              " 'fl': 875,\n",
              " 'mickey': 876,\n",
              " 'abusing': 877,\n",
              " 'position': 878,\n",
              " 'advantage': 879,\n",
              " 'bites': 880,\n",
              " 'sob': 881,\n",
              " 'must': 882,\n",
              " 'karma': 883,\n",
              " 'frost': 884,\n",
              " 'ready': 885,\n",
              " 'hacking': 886,\n",
              " 'smugmug': 887,\n",
              " 'ruby': 888,\n",
              " 'api': 889,\n",
              " 'gallery': 890,\n",
              " 'sorted': 891,\n",
              " 'start': 892,\n",
              " 'vac': 893,\n",
              " 'hw': 894,\n",
              " 'garr': 895,\n",
              " 'wed': 896,\n",
              " 'skoool': 897,\n",
              " 'stood': 898,\n",
              " 'earring': 899,\n",
              " 'ow': 900,\n",
              " 'watchin': 901,\n",
              " 'stop': 902,\n",
              " 'bricking': 903,\n",
              " 'jailbreak': 904,\n",
              " 'seems': 905,\n",
              " 'restored': 906,\n",
              " 'regularly': 907,\n",
              " 'cydia': 908,\n",
              " 'update': 909,\n",
              " 'sept': 910,\n",
              " 'happen': 911,\n",
              " 'heard': 912,\n",
              " 'collided': 913,\n",
              " 'safe': 914,\n",
              " 'joseph': 915,\n",
              " 'leaf': 916,\n",
              " 'lebanon': 917,\n",
              " 'aw': 918,\n",
              " 'island': 919,\n",
              " 'sunburned': 920,\n",
              " 'banned': 921,\n",
              " 'frm': 922,\n",
              " 'cuz': 923,\n",
              " 'er': 924,\n",
              " 'seren': 925,\n",
              " 'vomiting': 926,\n",
              " 'four': 927,\n",
              " 'liquid': 928,\n",
              " 'camel': 929,\n",
              " 'crush': 930,\n",
              " 'cigarettes': 931,\n",
              " 'marriage': 932,\n",
              " 'seriously': 933,\n",
              " 'body': 934,\n",
              " 'exist': 935,\n",
              " 'now..': 936,\n",
              " 'chinatown': 937,\n",
              " 'amtrak': 938,\n",
              " 'terrible': 939,\n",
              " '#': 940,\n",
              " 'wmata': 941,\n",
              " 'alone': 942,\n",
              " 'glasgow': 943,\n",
              " 'aahh..': 944,\n",
              " '4weeks': 945,\n",
              " 'help': 946,\n",
              " 'meda': 947,\n",
              " 'bronchial': 948,\n",
              " 'pneumonia': 949,\n",
              " 'brotherly': 950,\n",
              " 'bffz': 951,\n",
              " 'auhauhauh': 952,\n",
              " 'eu': 953,\n",
              " 'entendo': 954,\n",
              " 'ack': 955,\n",
              " 'signed': 956,\n",
              " 'crap': 957,\n",
              " 'yesterday': 958,\n",
              " 'website': 959,\n",
              " 'posted': 960,\n",
              " 'adjusted': 961,\n",
              " 'uncle': 962,\n",
              " 'magick': 963,\n",
              " 'family': 964,\n",
              " 'desparate': 965,\n",
              " 'drheather': 966,\n",
              " 'loll': 967,\n",
              " 'kitten': 968,\n",
              " 'regard': 969,\n",
              " 'message': 970,\n",
              " 'bouncing': 971,\n",
              " 'college': 972,\n",
              " 'text': 973,\n",
              " 'seemed': 974,\n",
              " 'kelly': 975,\n",
              " 'earlier..wtf': 976,\n",
              " 'film': 977,\n",
              " 'cover': 978,\n",
              " 'library': 979,\n",
              " 'use': 980,\n",
              " 'r': 981,\n",
              " 'esp': 982,\n",
              " 'libraries': 983,\n",
              " 'asked': 984,\n",
              " 'librarian': 985,\n",
              " \"get'em\": 986,\n",
              " \"want'em\": 987,\n",
              " 'crumbling': 988,\n",
              " 'meghanwray': 989,\n",
              " 'ill': 990,\n",
              " 'days': 991,\n",
              " 'havent': 992,\n",
              " 'site': 993,\n",
              " 'moving': 994,\n",
              " 'house': 995,\n",
              " 'busy': 996,\n",
              " 'bee': 997,\n",
              " 'watched': 998,\n",
              " 'trailer': 999,\n",
              " ...}"
            ]
          },
          "metadata": {
            "tags": []
          },
          "execution_count": 21
        }
      ]
    },
    {
      "cell_type": "code",
      "metadata": {
        "id": "hpVKSSL3eawZ"
      },
      "source": [
        "# for sentences with lengths less than maxlength, pad them with spaces\n",
        "for i in range(len(train_list)):\n",
        "  while len(train_list[i])<maxlength:\n",
        "      train_list[i].append(\" \")\n",
        "for i in range(len(test_list)):\n",
        "  while len(test_list[i])<maxlength:\n",
        "      test_list[i].append(\" \")\n",
        "train_seq = []\n",
        "test_seq = []\n",
        "for i in range(len(train_list)):\n",
        "  instance = []\n",
        "  for j in range(maxlength):\n",
        "    instance.append(word_dict.get(train_list[i][j]))\n",
        "  train_seq.append(instance)\n",
        "for i in range(len(test_list)):\n",
        "  instance = []\n",
        "  for j in range(maxlength):\n",
        "    instance.append(word_dict.get(test_list[i][j]))\n",
        "  test_seq.append(instance)\n",
        "train_seq = np.array(train_seq)\n",
        "test_seq = np.array(test_seq)"
      ],
      "execution_count": null,
      "outputs": []
    },
    {
      "cell_type": "code",
      "metadata": {
        "id": "xYSyv1O-dEah"
      },
      "source": [
        "# normalize data\n",
        "scaler = StandardScaler()\n",
        "train_scaled = scaler.fit_transform(train_seq)\n",
        "test_scaled = scaler.fit_transform(test_seq)"
      ],
      "execution_count": null,
      "outputs": []
    },
    {
      "cell_type": "code",
      "metadata": {
        "id": "uTvVDI-QwGLR"
      },
      "source": [
        "# turn data into tensors for the lstm model\n",
        "y_train_small = train_small_df['label'].tolist()\n",
        "y_test_small = test_small_df['label'].tolist()\n",
        "y_train_small = [[item] for item in y_train_small]\n",
        "y_test_small = [[item] for item in y_test_small]\n",
        "y_train_small = np.array(y_train_small)\n",
        "y_test_small = np.array(y_test_small)\n",
        "train_data = TensorDataset(torch.from_numpy(train_scaled), torch.from_numpy(y_train_small))\n",
        "test_data = TensorDataset(torch.from_numpy(test_scaled), torch.from_numpy(y_test_small))\n",
        "train_loader = DataLoader(train_data, shuffle=True, batch_size=200)\n",
        "test_loader = DataLoader(test_data, shuffle=True, batch_size=200)"
      ],
      "execution_count": null,
      "outputs": []
    },
    {
      "cell_type": "code",
      "metadata": {
        "id": "34lKEmyC2VAN"
      },
      "source": [
        "# construct the lstm class\n",
        "class LSTM(nn.Module):\n",
        "  def __init__(self, hidden_dim, input_size=input_size, batch_size=200, hidden_size=50, embedding_dim=128, output_size=1, num_layers=3):\n",
        "    super().__init__()\n",
        "    self.input_size = input_size\n",
        "    self.hidden_size = hidden_size\n",
        "    self.hidden_dim = hidden_dim\n",
        "    self.output_size = output_size\n",
        "    self.num_layers = num_layers\n",
        "    self.embedding_dim = embedding_dim\n",
        "    self.batch_size = batch_size\n",
        "    self.lstm = nn.LSTM(embedding_dim, hidden_size, num_layers, batch_first=True)\n",
        "    self.linear = nn.Linear(hidden_size, output_size)\n",
        "    self.dropout = nn.Dropout(p = 0.7)\n",
        "    self.embedding = nn.Embedding(self.input_size, self.embedding_dim)\n",
        "    self.act = nn.Sigmoid()\n",
        "  \n",
        "  def forward(self, x, hidden):\n",
        "    embedded = self.embedding(x)\n",
        "    lstm_out, hidden = self.lstm(embedded, hidden)\n",
        "    out = self.linear(lstm_out[:,-1,:])\n",
        "    out = self.dropout(out)\n",
        "    out = self.act(out)\n",
        "    return out, hidden\n",
        "\n",
        "  def init_hidden(self, batch_size):\n",
        "    hidden = (torch.zeros(self.num_layers,self.hidden_dim,self.hidden_size), torch.zeros(self.num_layers,self.hidden_dim,self.hidden_size))\n",
        "    return hidden"
      ],
      "execution_count": null,
      "outputs": []
    },
    {
      "cell_type": "code",
      "metadata": {
        "colab": {
          "base_uri": "https://localhost:8080/"
        },
        "id": "MpteaCwh_O1T",
        "outputId": "79d2e105-df04-4e7f-c8ac-14f93f525427"
      },
      "source": [
        "# define the train function, train data and report loss in each epoch\n",
        "# we use BCELoss and Adam optimizer\n",
        "device = torch.device(\"cpu\")\n",
        "clf = LSTM(hidden_dim = 200)\n",
        "criterion = nn.BCELoss()\n",
        "optimizer = torch.optim.Adam(clf.parameters(), lr=0.0001)\n",
        "clf.train(False)\n",
        "def train(num_epoch, train_loader, model):\n",
        "  n = 0\n",
        "  hidden = model.init_hidden(200)\n",
        "  for i in range(num_epoch):\n",
        "    for inputs, labels in train_loader:\n",
        "      hidden = tuple([each.data for each in hidden])\n",
        "      inputs = inputs.type(torch.LongTensor)\n",
        "      outputs, hidden = model(inputs, hidden)\n",
        "      optimizer.zero_grad()\n",
        "      loss = criterion(outputs, labels.float())\n",
        "      loss.backward(retain_graph=True)\n",
        "      optimizer.step()\n",
        "      if n % 40 == 0:\n",
        "        print(f\"epoch{i+1} loss: {loss.item()}\")\n",
        "      n = n + 1\n",
        "    model.train()\n",
        "train(20, train_loader, clf)"
      ],
      "execution_count": null,
      "outputs": [
        {
          "output_type": "stream",
          "text": [
            "epoch1 loss: 0.695676326751709\n",
            "epoch1 loss: 0.6935936808586121\n",
            "epoch1 loss: 0.6936751008033752\n",
            "epoch2 loss: 0.6930432319641113\n",
            "epoch2 loss: 0.6930053234100342\n",
            "epoch3 loss: 0.6929691433906555\n",
            "epoch3 loss: 0.6925639510154724\n",
            "epoch3 loss: 0.6937702894210815\n",
            "epoch4 loss: 0.692216694355011\n",
            "epoch4 loss: 0.6928344964981079\n",
            "epoch5 loss: 0.6929423809051514\n",
            "epoch5 loss: 0.6931465268135071\n",
            "epoch5 loss: 0.6937225461006165\n",
            "epoch6 loss: 0.6929765939712524\n",
            "epoch6 loss: 0.6935455799102783\n",
            "epoch7 loss: 0.6929688453674316\n",
            "epoch7 loss: 0.6915950179100037\n",
            "epoch7 loss: 0.6932154297828674\n",
            "epoch8 loss: 0.6932409405708313\n",
            "epoch8 loss: 0.693149745464325\n",
            "epoch9 loss: 0.6933330297470093\n",
            "epoch9 loss: 0.6934217214584351\n",
            "epoch9 loss: 0.6934117078781128\n",
            "epoch10 loss: 0.6929531693458557\n",
            "epoch10 loss: 0.6929721236228943\n",
            "epoch11 loss: 0.6932545304298401\n",
            "epoch11 loss: 0.6916311383247375\n",
            "epoch11 loss: 0.6929497718811035\n",
            "epoch12 loss: 0.6928845047950745\n",
            "epoch12 loss: 0.6914705038070679\n",
            "epoch13 loss: 0.6926928758621216\n",
            "epoch13 loss: 0.693227231502533\n",
            "epoch13 loss: 0.6932149529457092\n",
            "epoch14 loss: 0.6936561465263367\n",
            "epoch14 loss: 0.6937395334243774\n",
            "epoch15 loss: 0.693002462387085\n",
            "epoch15 loss: 0.6931237578392029\n",
            "epoch15 loss: 0.6933577060699463\n",
            "epoch16 loss: 0.6935839653015137\n",
            "epoch16 loss: 0.693281888961792\n",
            "epoch17 loss: 0.6955486536026001\n",
            "epoch17 loss: 0.6934069991111755\n",
            "epoch17 loss: 0.6931915879249573\n",
            "epoch18 loss: 0.6926173567771912\n",
            "epoch18 loss: 0.6932034492492676\n",
            "epoch19 loss: 0.693128764629364\n",
            "epoch19 loss: 0.692660927772522\n",
            "epoch19 loss: 0.6932432651519775\n",
            "epoch20 loss: 0.6930074095726013\n",
            "epoch20 loss: 0.6935534477233887\n"
          ],
          "name": "stdout"
        }
      ]
    },
    {
      "cell_type": "code",
      "metadata": {
        "colab": {
          "base_uri": "https://localhost:8080/"
        },
        "id": "UQF_wSvU_Qvl",
        "outputId": "c5e32d64-ad55-4f67-a1cd-eb9a4cc29eb5"
      },
      "source": [
        "def test(test_loader, clf):\n",
        "  hidden = clf.init_hidden(200)\n",
        "  acc_list = []\n",
        "  loss_list = []\n",
        "  for inputs, labels in test_loader:\n",
        "    inputs = inputs.type(torch.LongTensor)\n",
        "    outputs, hidden = clf(inputs, hidden)\n",
        "    loss = criterion(outputs, labels.float())\n",
        "    predicted = torch.round(outputs)\n",
        "    partial_acc = accuracy_score(predicted.detach().numpy(), labels.detach().numpy())\n",
        "    acc_list.append(partial_acc)\n",
        "    loss_list.append(loss)\n",
        "  accuracy = sum(acc_list)/len(acc_list)\n",
        "  avg_loss = sum(loss_list) / len(loss_list)\n",
        "  print(acc_list)\n",
        "  print(f\"accuracy: {accuracy}\")\n",
        "  print(f\"average loss: {avg_loss}\")\n",
        "  return accuracy, avg_loss\n",
        "test(test_loader, clf)"
      ],
      "execution_count": null,
      "outputs": [
        {
          "output_type": "stream",
          "text": [
            "[0.53, 0.505, 0.505, 0.435, 0.505, 0.55, 0.41, 0.48, 0.455, 0.575, 0.535, 0.505, 0.49, 0.535, 0.525, 0.5, 0.505, 0.51, 0.455, 0.49]\n",
            "accuracy: 0.5000000000000001\n",
            "average loss: 0.6931555271148682\n"
          ],
          "name": "stdout"
        },
        {
          "output_type": "execute_result",
          "data": {
            "text/plain": [
              "(0.5000000000000001, tensor(0.6932, grad_fn=<DivBackward0>))"
            ]
          },
          "metadata": {
            "tags": []
          },
          "execution_count": 27
        }
      ]
    },
    {
      "cell_type": "markdown",
      "metadata": {
        "id": "NRlO5zHwq7Gh"
      },
      "source": [
        "## Finetuning LSTM"
      ]
    },
    {
      "cell_type": "markdown",
      "metadata": {
        "id": "GwUzy0bTwtoS"
      },
      "source": [
        "### Reduce the length of input sentences\n",
        "\n",
        "Since the average length of input sentences is around 9 words (while the maximum length is 100), forcing the input length to be 100 while padding most values with zeros seems unecessary."
      ]
    },
    {
      "cell_type": "code",
      "metadata": {
        "id": "TWtAyyR04lMP"
      },
      "source": [
        "# take only first 30 values instead of 100\n",
        "train_seq_30 = [item[:30] for item in train_seq.tolist()]\n",
        "test_seq_30 = [item[:30] for item in test_seq.tolist()]\n",
        "train_seq_30 = np.array(train_seq_30)\n",
        "test_seq_30 = np.array(test_seq_30)"
      ],
      "execution_count": null,
      "outputs": []
    },
    {
      "cell_type": "code",
      "metadata": {
        "id": "0VQ8BpxhSqrK"
      },
      "source": [
        "# normalize data\n",
        "scaler = StandardScaler()\n",
        "train_scaled_30 = scaler.fit_transform(train_seq_30)\n",
        "test_scaled_30 = scaler.fit_transform(test_seq_30)"
      ],
      "execution_count": null,
      "outputs": []
    },
    {
      "cell_type": "code",
      "metadata": {
        "id": "qxkv1dIjq-hC"
      },
      "source": [
        "train_data = TensorDataset(torch.from_numpy(train_scaled_30), torch.from_numpy(y_train_small))\n",
        "test_data = TensorDataset(torch.from_numpy(test_scaled_30), torch.from_numpy(y_test_small))\n",
        "train_loader = DataLoader(train_data, shuffle=True, batch_size=200)\n",
        "test_loader = DataLoader(test_data, shuffle=True, batch_size=200)"
      ],
      "execution_count": null,
      "outputs": []
    },
    {
      "cell_type": "code",
      "metadata": {
        "colab": {
          "base_uri": "https://localhost:8080/"
        },
        "id": "S55iAfJUyNIw",
        "outputId": "5e9fa764-3d2f-421a-e702-01d3a664afaa"
      },
      "source": [
        "# redo the train and test process, this time with the simplified version of data\n",
        "clf30 = LSTM(hidden_dim = 200)\n",
        "criterion = nn.BCELoss()\n",
        "optimizer = torch.optim.Adam(clf.parameters(), lr=0.0001)\n",
        "clf30.train()\n",
        "train(20, train_loader, clf30)\n",
        "test(test_loader, clf30)"
      ],
      "execution_count": null,
      "outputs": [
        {
          "output_type": "stream",
          "text": [
            "epoch1 loss: 0.6910938024520874\n",
            "epoch1 loss: 0.695119321346283\n",
            "epoch1 loss: 0.7003160119056702\n",
            "epoch2 loss: 0.6921438574790955\n",
            "epoch2 loss: 0.6929240226745605\n",
            "epoch3 loss: 0.6972301006317139\n",
            "epoch3 loss: 0.6917324662208557\n",
            "epoch3 loss: 0.6949474811553955\n",
            "epoch4 loss: 0.7006251811981201\n",
            "epoch4 loss: 0.6953303813934326\n",
            "epoch5 loss: 0.687863290309906\n",
            "epoch5 loss: 0.6937644481658936\n",
            "epoch5 loss: 0.6999947428703308\n",
            "epoch6 loss: 0.6992708444595337\n",
            "epoch6 loss: 0.6983131170272827\n",
            "epoch7 loss: 0.696662425994873\n",
            "epoch7 loss: 0.6912817358970642\n",
            "epoch7 loss: 0.6966648101806641\n",
            "epoch8 loss: 0.691596508026123\n",
            "epoch8 loss: 0.6969224810600281\n",
            "epoch9 loss: 0.6925387382507324\n",
            "epoch9 loss: 0.6976532936096191\n",
            "epoch9 loss: 0.6892935037612915\n",
            "epoch10 loss: 0.6933934688568115\n",
            "epoch10 loss: 0.7010675072669983\n",
            "epoch11 loss: 0.6844342947006226\n",
            "epoch11 loss: 0.6877307295799255\n",
            "epoch11 loss: 0.6982244849205017\n",
            "epoch12 loss: 0.6894842386245728\n",
            "epoch12 loss: 0.696932852268219\n",
            "epoch13 loss: 0.693794846534729\n",
            "epoch13 loss: 0.6893576979637146\n",
            "epoch13 loss: 0.6928765773773193\n",
            "epoch14 loss: 0.6938877701759338\n",
            "epoch14 loss: 0.7029842138290405\n",
            "epoch15 loss: 0.6999910473823547\n",
            "epoch15 loss: 0.6954948902130127\n",
            "epoch15 loss: 0.6910234093666077\n",
            "epoch16 loss: 0.6963173747062683\n",
            "epoch16 loss: 0.6908850073814392\n",
            "epoch17 loss: 0.6958418488502502\n",
            "epoch17 loss: 0.6856171488761902\n",
            "epoch17 loss: 0.7004162669181824\n",
            "epoch18 loss: 0.6920843720436096\n",
            "epoch18 loss: 0.6882623434066772\n",
            "epoch19 loss: 0.6974875926971436\n",
            "epoch19 loss: 0.6894614696502686\n",
            "epoch19 loss: 0.689766526222229\n",
            "epoch20 loss: 0.6886594295501709\n",
            "epoch20 loss: 0.6895056366920471\n",
            "[0.48, 0.55, 0.48, 0.455, 0.545, 0.52, 0.47, 0.375, 0.54, 0.475, 0.495, 0.48, 0.485, 0.51, 0.505, 0.46, 0.505, 0.51, 0.535, 0.525]\n",
            "accuracy: 0.495\n",
            "average loss: 0.6955292820930481\n"
          ],
          "name": "stdout"
        },
        {
          "output_type": "execute_result",
          "data": {
            "text/plain": [
              "(0.495, tensor(0.6955, grad_fn=<DivBackward0>))"
            ]
          },
          "metadata": {
            "tags": []
          },
          "execution_count": 31
        }
      ]
    },
    {
      "cell_type": "markdown",
      "metadata": {
        "id": "Sp-0SAaUgtcY"
      },
      "source": [
        "### One-hot encode labels"
      ]
    },
    {
      "cell_type": "code",
      "metadata": {
        "id": "hbqIBfLlcpOi"
      },
      "source": [
        "# one-hot encode labels\n",
        "encoder = OneHotEncoder()\n",
        "y_train_small = train_small_df['label'].tolist()\n",
        "y_test_small = test_small_df['label'].tolist()\n",
        "y_train_small = [[item] for item in y_train_small]\n",
        "y_test_small = [[item] for item in y_test_small]\n",
        "y_train_encoded = encoder.fit_transform(y_train_small)\n",
        "y_test_encoded = encoder.fit_transform(y_test_small)"
      ],
      "execution_count": null,
      "outputs": []
    },
    {
      "cell_type": "code",
      "metadata": {
        "id": "zntV0lFXhccU"
      },
      "source": [
        "# build the new classifier with an added softmax layer\n",
        "class lstmCLF(nn.Module):\n",
        "  def __init__(self, hidden_dim, input_size=input_size, batch_size=200, hidden_size=50, embedding_dim=128, output_size=2, num_layers=3):\n",
        "    super().__init__()\n",
        "    self.input_size = input_size\n",
        "    self.hidden_size = hidden_size\n",
        "    self.output_size = output_size\n",
        "    self.num_layers = num_layers\n",
        "    self.embedding_dim = embedding_dim\n",
        "    self.batch_size = batch_size\n",
        "    self.lstm = nn.LSTM(input_size = embedding_dim, hidden_size = hidden_size, num_layers = num_layers, batch_first=True)\n",
        "    self.linear = nn.Linear(hidden_size, output_size)\n",
        "    self.dropout = nn.Dropout(p = 0.7)\n",
        "    self.hidden_dim = hidden_dim\n",
        "    self.embedding = nn.Embedding(self.input_size, self.embedding_dim)\n",
        "    self.act = nn.Sigmoid()\n",
        "    self.softmax = nn.Softmax()\n",
        "  \n",
        "  def forward(self, x, hidden):\n",
        "    embedded = self.embedding(x)\n",
        "    lstm_out, hidden = self.lstm(embedded, hidden)\n",
        "    out = self.linear(lstm_out[:,-1,:])\n",
        "    out = self.dropout(out)\n",
        "    out = self.act(out)\n",
        "    out = self.softmax(out)\n",
        "    return out, hidden\n",
        "\n",
        "  def init_hidden(self, batch_size):\n",
        "    hidden = (torch.zeros(self.num_layers,self.hidden_dim,self.hidden_size), torch.zeros(self.num_layers,self.hidden_dim,self.hidden_size))\n",
        "    return hidden"
      ],
      "execution_count": null,
      "outputs": []
    },
    {
      "cell_type": "code",
      "metadata": {
        "id": "LycJ8-rIW6eX"
      },
      "source": [
        "# load data\n",
        "y_train_arr = y_train_encoded.toarray()\n",
        "y_test_arr = y_test_encoded.toarray()\n",
        "train_data = TensorDataset(torch.from_numpy(train_scaled_30), torch.from_numpy(y_train_arr))\n",
        "test_data = TensorDataset(torch.from_numpy(test_scaled_30), torch.from_numpy(y_test_arr))\n",
        "train_loader = DataLoader(train_data, shuffle=True, batch_size=200)\n",
        "test_loader = DataLoader(test_data, shuffle=True, batch_size=200)"
      ],
      "execution_count": null,
      "outputs": []
    },
    {
      "cell_type": "code",
      "metadata": {
        "colab": {
          "base_uri": "https://localhost:8080/"
        },
        "id": "cO0qb6nWVYTq",
        "outputId": "ca1ae63f-18da-44cf-a5ce-6da949d208d0"
      },
      "source": [
        "# train with the new model and record train accuracy\n",
        "device = torch.device(\"cpu\")\n",
        "clf = lstmCLF(hidden_dim = 200, hidden_size=16, embedding_dim=64)\n",
        "criterion = nn.BCEWithLogitsLoss()\n",
        "optimizer = torch.optim.Adam(clf.parameters(), lr=0.0001)\n",
        "clf.train(False)\n",
        "def train(num_epoch, train_loader, model):\n",
        "  n = 0\n",
        "  acc_list_train = []\n",
        "  hidden = model.init_hidden(200)\n",
        "  for i in range(num_epoch):\n",
        "    acc_list = []\n",
        "    for inputs, labels in train_loader:\n",
        "      hidden = tuple([each.data for each in hidden])\n",
        "      inputs = inputs.type(torch.LongTensor)\n",
        "      outputs, hidden = model(inputs, hidden)\n",
        "      predicted = [np.argmax(item) for item in outputs.detach().numpy()]\n",
        "      y_true = [np.argmax(item) for item in labels.detach().numpy()]\n",
        "      partial_acc = accuracy_score(np.array(predicted), np.array(y_true))\n",
        "      acc_list.append(partial_acc)\n",
        "      optimizer.zero_grad()\n",
        "      loss = criterion(outputs, labels)\n",
        "      loss.backward(retain_graph=True)\n",
        "      optimizer.step()\n",
        "      if n % 40 == 0:\n",
        "        print(f\"epoch{i+1} loss: {loss.item()}\")\n",
        "      n = n + 1\n",
        "    avg_acc = sum(acc_list) / len(acc_list)\n",
        "    acc_list_train.append(avg_acc)\n",
        "    model.train()\n",
        "  return acc_list_train\n",
        "train(40, train_loader, clf)"
      ],
      "execution_count": null,
      "outputs": [
        {
          "output_type": "stream",
          "text": [
            "/usr/local/lib/python3.6/dist-packages/ipykernel_launcher.py:25: UserWarning: Implicit dimension choice for softmax has been deprecated. Change the call to include dim=X as an argument.\n"
          ],
          "name": "stderr"
        },
        {
          "output_type": "stream",
          "text": [
            "epoch1 loss: 0.7246735236048698\n",
            "epoch1 loss: 0.7243971906602382\n",
            "epoch1 loss: 0.7240227696299553\n",
            "epoch2 loss: 0.7246370771527291\n",
            "epoch2 loss: 0.7251080999523402\n",
            "epoch3 loss: 0.7234942042827606\n",
            "epoch3 loss: 0.7246348550915718\n",
            "epoch3 loss: 0.7231694405525922\n",
            "epoch4 loss: 0.7233200735598803\n",
            "epoch4 loss: 0.7242094616591931\n",
            "epoch5 loss: 0.7238519739359617\n",
            "epoch5 loss: 0.7241512107104063\n",
            "epoch5 loss: 0.724868630245328\n",
            "epoch6 loss: 0.724658684656024\n",
            "epoch6 loss: 0.7245521097630262\n",
            "epoch7 loss: 0.7235691515356302\n",
            "epoch7 loss: 0.7235402286052703\n",
            "epoch7 loss: 0.72398387812078\n",
            "epoch8 loss: 0.7238039978593588\n",
            "epoch8 loss: 0.7241737547516823\n",
            "epoch9 loss: 0.7239749323576689\n",
            "epoch9 loss: 0.7241961808502674\n",
            "epoch9 loss: 0.7240912710875272\n",
            "epoch10 loss: 0.7240648421645165\n",
            "epoch10 loss: 0.7241185975819826\n",
            "epoch11 loss: 0.7240789767354727\n",
            "epoch11 loss: 0.7240410563349724\n",
            "epoch11 loss: 0.7240606866776943\n",
            "epoch12 loss: 0.724083838313818\n",
            "epoch12 loss: 0.7240500926971436\n",
            "epoch13 loss: 0.7240761202573777\n",
            "epoch13 loss: 0.7242984373122454\n",
            "epoch13 loss: 0.7243504728376865\n",
            "epoch14 loss: 0.724105385541916\n",
            "epoch14 loss: 0.7238223871588707\n",
            "epoch15 loss: 0.7240555814653635\n",
            "epoch15 loss: 0.7239244507998228\n",
            "epoch15 loss: 0.7240387413650751\n",
            "epoch16 loss: 0.7242306308448314\n",
            "epoch16 loss: 0.7244286143779755\n",
            "epoch17 loss: 0.7239645589143038\n",
            "epoch17 loss: 0.7240521635115147\n",
            "epoch17 loss: 0.7241474206000567\n",
            "epoch18 loss: 0.7237760315835476\n",
            "epoch18 loss: 0.7243497823178768\n",
            "epoch19 loss: 0.7240901539474726\n",
            "epoch19 loss: 0.7236259140074253\n",
            "epoch19 loss: 0.72326610468328\n",
            "epoch20 loss: 0.7239061377197504\n",
            "epoch20 loss: 0.7206902787834406\n",
            "epoch21 loss: 0.7190921192616224\n",
            "epoch21 loss: 0.7175850563496351\n",
            "epoch21 loss: 0.7221136751770973\n",
            "epoch22 loss: 0.724136365056038\n",
            "epoch22 loss: 0.7187099627405406\n",
            "epoch23 loss: 0.7252261973172426\n",
            "epoch23 loss: 0.718836054354906\n",
            "epoch23 loss: 0.7181021007150412\n",
            "epoch24 loss: 0.7128477427363396\n",
            "epoch24 loss: 0.7191622327268123\n",
            "epoch25 loss: 0.7119207683205605\n",
            "epoch25 loss: 0.7179225164651871\n",
            "epoch25 loss: 0.715811852440238\n",
            "epoch26 loss: 0.7141092251986265\n",
            "epoch26 loss: 0.7205951704829932\n",
            "epoch27 loss: 0.7164614672958851\n",
            "epoch27 loss: 0.7207763983309269\n",
            "epoch27 loss: 0.7122976144403219\n",
            "epoch28 loss: 0.7184256640821696\n",
            "epoch28 loss: 0.7220620264858008\n",
            "epoch29 loss: 0.713585480004549\n",
            "epoch29 loss: 0.722897978797555\n",
            "epoch29 loss: 0.7182324112951756\n",
            "epoch30 loss: 0.7117270407825709\n",
            "epoch30 loss: 0.7108888123184443\n",
            "epoch31 loss: 0.7145641664415598\n",
            "epoch31 loss: 0.7091267346590757\n",
            "epoch31 loss: 0.7185976161062717\n",
            "epoch32 loss: 0.7189864547550678\n",
            "epoch32 loss: 0.7136778128147125\n",
            "epoch33 loss: 0.7137737823277712\n",
            "epoch33 loss: 0.7115098244696856\n",
            "epoch33 loss: 0.7121662220358849\n",
            "epoch34 loss: 0.7067818941920996\n",
            "epoch34 loss: 0.7116566086560487\n",
            "epoch35 loss: 0.7132477137446404\n",
            "epoch35 loss: 0.7095965158194304\n",
            "epoch35 loss: 0.708120250403881\n",
            "epoch36 loss: 0.7066106247901917\n",
            "epoch36 loss: 0.7126797362416982\n",
            "epoch37 loss: 0.7181193776428699\n",
            "epoch37 loss: 0.7164218740165234\n",
            "epoch37 loss: 0.7120408657193183\n",
            "epoch38 loss: 0.712619254514575\n",
            "epoch38 loss: 0.714292093589902\n",
            "epoch39 loss: 0.7099565127491951\n",
            "epoch39 loss: 0.7061220819503069\n",
            "epoch39 loss: 0.709195017516613\n",
            "epoch40 loss: 0.7119139571487904\n",
            "epoch40 loss: 0.7055751637369394\n"
          ],
          "name": "stdout"
        },
        {
          "output_type": "execute_result",
          "data": {
            "text/plain": [
              "[0.4999999999999998,\n",
              " 0.5000000000000001,\n",
              " 0.49999999999999983,\n",
              " 0.5,\n",
              " 0.4999999999999998,\n",
              " 0.49999999999999983,\n",
              " 0.5000000000000001,\n",
              " 0.5,\n",
              " 0.5,\n",
              " 0.4980499999999999,\n",
              " 0.49644999999999995,\n",
              " 0.5,\n",
              " 0.49999999999999994,\n",
              " 0.49999999999999983,\n",
              " 0.4999999999999997,\n",
              " 0.49999999999999994,\n",
              " 0.5,\n",
              " 0.49999999999999983,\n",
              " 0.5021,\n",
              " 0.5420000000000003,\n",
              " 0.55,\n",
              " 0.55645,\n",
              " 0.5619499999999998,\n",
              " 0.5656999999999999,\n",
              " 0.5637000000000003,\n",
              " 0.5607499999999999,\n",
              " 0.5759,\n",
              " 0.5736000000000002,\n",
              " 0.5756999999999999,\n",
              " 0.5832,\n",
              " 0.5864,\n",
              " 0.58235,\n",
              " 0.5868,\n",
              " 0.5918500000000002,\n",
              " 0.5960499999999999,\n",
              " 0.59785,\n",
              " 0.6058499999999998,\n",
              " 0.6026499999999999,\n",
              " 0.6076000000000004,\n",
              " 0.6041999999999998]"
            ]
          },
          "metadata": {
            "tags": []
          },
          "execution_count": 35
        }
      ]
    },
    {
      "cell_type": "code",
      "metadata": {
        "colab": {
          "base_uri": "https://localhost:8080/"
        },
        "id": "VuxgqJSzW4HT",
        "outputId": "170131c5-9036-4928-d619-6daafd8096c0"
      },
      "source": [
        "def test(test_loader):\n",
        "  hidden = clf.init_hidden(200)\n",
        "  acc_list = []\n",
        "  loss_list = []\n",
        "  for inputs, labels in test_loader:\n",
        "    encoder = OneHotEncoder()\n",
        "    inputs = inputs.type(torch.LongTensor)\n",
        "    outputs, hidden = clf(inputs, hidden)\n",
        "    loss = criterion(outputs, labels.squeeze().float())\n",
        "    predicted = [np.argmax(item) for item in outputs.detach().numpy()]\n",
        "    predicted = np.array([[item] for item in predicted])\n",
        "    predicted = encoder.fit_transform(predicted).toarray()\n",
        "    partial_acc = accuracy_score(predicted, labels.detach().numpy())\n",
        "    acc_list.append(partial_acc)\n",
        "    loss_list.append(loss)\n",
        "  accuracy = sum(acc_list) / len(acc_list)\n",
        "  avg_loss = sum(loss_list) / len(loss_list)\n",
        "  print(f\"accuracy: {accuracy}\")\n",
        "  print(f\"average loss: {avg_loss}\")\n",
        "  return accuracy\n",
        "test(test_loader)"
      ],
      "execution_count": null,
      "outputs": [
        {
          "output_type": "stream",
          "text": [
            "/usr/local/lib/python3.6/dist-packages/ipykernel_launcher.py:25: UserWarning: Implicit dimension choice for softmax has been deprecated. Change the call to include dim=X as an argument.\n",
            "/usr/local/lib/python3.6/dist-packages/ipykernel_launcher.py:25: UserWarning: Implicit dimension choice for softmax has been deprecated. Change the call to include dim=X as an argument.\n",
            "/usr/local/lib/python3.6/dist-packages/ipykernel_launcher.py:25: UserWarning: Implicit dimension choice for softmax has been deprecated. Change the call to include dim=X as an argument.\n",
            "/usr/local/lib/python3.6/dist-packages/ipykernel_launcher.py:25: UserWarning: Implicit dimension choice for softmax has been deprecated. Change the call to include dim=X as an argument.\n",
            "/usr/local/lib/python3.6/dist-packages/ipykernel_launcher.py:25: UserWarning: Implicit dimension choice for softmax has been deprecated. Change the call to include dim=X as an argument.\n",
            "/usr/local/lib/python3.6/dist-packages/ipykernel_launcher.py:25: UserWarning: Implicit dimension choice for softmax has been deprecated. Change the call to include dim=X as an argument.\n",
            "/usr/local/lib/python3.6/dist-packages/ipykernel_launcher.py:25: UserWarning: Implicit dimension choice for softmax has been deprecated. Change the call to include dim=X as an argument.\n",
            "/usr/local/lib/python3.6/dist-packages/ipykernel_launcher.py:25: UserWarning: Implicit dimension choice for softmax has been deprecated. Change the call to include dim=X as an argument.\n",
            "/usr/local/lib/python3.6/dist-packages/ipykernel_launcher.py:25: UserWarning: Implicit dimension choice for softmax has been deprecated. Change the call to include dim=X as an argument.\n",
            "/usr/local/lib/python3.6/dist-packages/ipykernel_launcher.py:25: UserWarning: Implicit dimension choice for softmax has been deprecated. Change the call to include dim=X as an argument.\n",
            "/usr/local/lib/python3.6/dist-packages/ipykernel_launcher.py:25: UserWarning: Implicit dimension choice for softmax has been deprecated. Change the call to include dim=X as an argument.\n",
            "/usr/local/lib/python3.6/dist-packages/ipykernel_launcher.py:25: UserWarning: Implicit dimension choice for softmax has been deprecated. Change the call to include dim=X as an argument.\n",
            "/usr/local/lib/python3.6/dist-packages/ipykernel_launcher.py:25: UserWarning: Implicit dimension choice for softmax has been deprecated. Change the call to include dim=X as an argument.\n",
            "/usr/local/lib/python3.6/dist-packages/ipykernel_launcher.py:25: UserWarning: Implicit dimension choice for softmax has been deprecated. Change the call to include dim=X as an argument.\n",
            "/usr/local/lib/python3.6/dist-packages/ipykernel_launcher.py:25: UserWarning: Implicit dimension choice for softmax has been deprecated. Change the call to include dim=X as an argument.\n",
            "/usr/local/lib/python3.6/dist-packages/ipykernel_launcher.py:25: UserWarning: Implicit dimension choice for softmax has been deprecated. Change the call to include dim=X as an argument.\n",
            "/usr/local/lib/python3.6/dist-packages/ipykernel_launcher.py:25: UserWarning: Implicit dimension choice for softmax has been deprecated. Change the call to include dim=X as an argument.\n"
          ],
          "name": "stderr"
        },
        {
          "output_type": "stream",
          "text": [
            "accuracy: 0.5385000000000001\n",
            "average loss: 0.7193856239318848\n"
          ],
          "name": "stdout"
        },
        {
          "output_type": "stream",
          "text": [
            "/usr/local/lib/python3.6/dist-packages/ipykernel_launcher.py:25: UserWarning: Implicit dimension choice for softmax has been deprecated. Change the call to include dim=X as an argument.\n",
            "/usr/local/lib/python3.6/dist-packages/ipykernel_launcher.py:25: UserWarning: Implicit dimension choice for softmax has been deprecated. Change the call to include dim=X as an argument.\n",
            "/usr/local/lib/python3.6/dist-packages/ipykernel_launcher.py:25: UserWarning: Implicit dimension choice for softmax has been deprecated. Change the call to include dim=X as an argument.\n"
          ],
          "name": "stderr"
        },
        {
          "output_type": "execute_result",
          "data": {
            "text/plain": [
              "0.5385000000000001"
            ]
          },
          "metadata": {
            "tags": []
          },
          "execution_count": 36
        }
      ]
    },
    {
      "cell_type": "markdown",
      "metadata": {
        "id": "OEFe4cHb1gSO"
      },
      "source": [
        "### adjust hidden_size, embedding_dim and lr\n",
        "\n",
        "See the report for a chart of experiment results"
      ]
    },
    {
      "cell_type": "code",
      "metadata": {
        "colab": {
          "base_uri": "https://localhost:8080/"
        },
        "id": "AiguI4tidVPy",
        "outputId": "34d4011e-dfac-493c-8a87-fce297499797"
      },
      "source": [
        "device = torch.device(\"cpu\")\n",
        "clf = lstmCLF(hidden_dim = 200, hidden_size=30, embedding_dim=64)\n",
        "criterion = nn.BCEWithLogitsLoss()\n",
        "optimizer = torch.optim.Adam(clf.parameters(), lr=0.0001)\n",
        "clf.train(False)\n",
        "acc_list = train(100, train_loader, clf)\n",
        "test(test_loader)"
      ],
      "execution_count": null,
      "outputs": [
        {
          "output_type": "stream",
          "text": [
            "/usr/local/lib/python3.6/dist-packages/ipykernel_launcher.py:25: UserWarning: Implicit dimension choice for softmax has been deprecated. Change the call to include dim=X as an argument.\n"
          ],
          "name": "stderr"
        },
        {
          "output_type": "stream",
          "text": [
            "epoch1 loss: 0.7239920128881931\n",
            "epoch1 loss: 0.7243587931245565\n",
            "epoch1 loss: 0.7239294053614139\n",
            "epoch2 loss: 0.7237347456812858\n",
            "epoch2 loss: 0.7243115025013686\n",
            "epoch3 loss: 0.7250235180556774\n",
            "epoch3 loss: 0.72378668487072\n",
            "epoch3 loss: 0.7243662381917239\n",
            "epoch4 loss: 0.7245798520743847\n",
            "epoch4 loss: 0.7241492831707\n",
            "epoch5 loss: 0.7246417315304279\n",
            "epoch5 loss: 0.7236798783391714\n",
            "epoch5 loss: 0.7240204851329327\n",
            "epoch6 loss: 0.7243489427119494\n",
            "epoch6 loss: 0.7241975092887878\n",
            "epoch7 loss: 0.7237618084996938\n",
            "epoch7 loss: 0.7238265890628099\n",
            "epoch7 loss: 0.7237923833727836\n",
            "epoch8 loss: 0.7232696501165629\n",
            "epoch8 loss: 0.7234785067290068\n",
            "epoch9 loss: 0.7232832775264978\n",
            "epoch9 loss: 0.7232926364988088\n",
            "epoch9 loss: 0.7141948483139277\n",
            "epoch10 loss: 0.7169203811883926\n",
            "epoch10 loss: 0.7129698028415441\n",
            "epoch11 loss: 0.7117350377887487\n",
            "epoch11 loss: 0.7204481760412454\n",
            "epoch11 loss: 0.7133881568908691\n",
            "epoch12 loss: 0.7176883251965046\n",
            "epoch12 loss: 0.7106828413903713\n",
            "epoch13 loss: 0.7172617759555578\n",
            "epoch13 loss: 0.7127512888610363\n",
            "epoch13 loss: 0.7111414482444525\n",
            "epoch14 loss: 0.717290273308754\n",
            "epoch14 loss: 0.7133926324546337\n",
            "epoch15 loss: 0.7266001790761948\n",
            "epoch15 loss: 0.7149686763435602\n",
            "epoch15 loss: 0.7091854236274958\n",
            "epoch16 loss: 0.7138389958441258\n",
            "epoch16 loss: 0.7104428099095821\n",
            "epoch17 loss: 0.7136628775298596\n",
            "epoch17 loss: 0.7197723991423846\n",
            "epoch17 loss: 0.7137286078929901\n",
            "epoch18 loss: 0.7162715715169906\n",
            "epoch18 loss: 0.7111321430653333\n",
            "epoch19 loss: 0.7100599310547113\n",
            "epoch19 loss: 0.7151643800735473\n",
            "epoch19 loss: 0.713495743572712\n",
            "epoch20 loss: 0.7140086164325475\n",
            "epoch20 loss: 0.715487954095006\n",
            "epoch21 loss: 0.7184592510014772\n",
            "epoch21 loss: 0.711645874902606\n",
            "epoch21 loss: 0.7097867210954427\n",
            "epoch22 loss: 0.710404604151845\n",
            "epoch22 loss: 0.714133449792862\n",
            "epoch23 loss: 0.7116998575627804\n",
            "epoch23 loss: 0.7189324613660574\n",
            "epoch23 loss: 0.7094490067660808\n",
            "epoch24 loss: 0.7232424025982618\n",
            "epoch24 loss: 0.709170862287283\n",
            "epoch25 loss: 0.7090663024783135\n",
            "epoch25 loss: 0.7144341138750314\n",
            "epoch25 loss: 0.713871388360858\n",
            "epoch26 loss: 0.7128507723659276\n",
            "epoch26 loss: 0.7085410523414611\n",
            "epoch27 loss: 0.7056486614793539\n",
            "epoch27 loss: 0.7113320731371641\n",
            "epoch27 loss: 0.7084419935196639\n",
            "epoch28 loss: 0.7115250577032566\n",
            "epoch28 loss: 0.7104812749475241\n",
            "epoch29 loss: 0.7140747138112783\n",
            "epoch29 loss: 0.7087922349572182\n",
            "epoch29 loss: 0.7123744473606348\n",
            "epoch30 loss: 0.7097159982472658\n",
            "epoch30 loss: 0.7100477613508701\n",
            "epoch31 loss: 0.7141994851827621\n",
            "epoch31 loss: 0.7125301029533148\n",
            "epoch31 loss: 0.7100124010443687\n",
            "epoch32 loss: 0.7141069766134024\n",
            "epoch32 loss: 0.7111973778158426\n",
            "epoch33 loss: 0.7105558209866285\n",
            "epoch33 loss: 0.7027526894956827\n",
            "epoch33 loss: 0.7123718940466642\n",
            "epoch34 loss: 0.7115159367024898\n",
            "epoch34 loss: 0.7094727408885956\n",
            "epoch35 loss: 0.7093003840744495\n",
            "epoch35 loss: 0.7127028765529394\n",
            "epoch35 loss: 0.7158378890156746\n",
            "epoch36 loss: 0.7124957571923732\n",
            "epoch36 loss: 0.7184356861561537\n",
            "epoch37 loss: 0.7202317631244659\n",
            "epoch37 loss: 0.7079163247346878\n",
            "epoch37 loss: 0.7134587128460407\n",
            "epoch38 loss: 0.7122878022491932\n",
            "epoch38 loss: 0.7080421730875969\n",
            "epoch39 loss: 0.7078023163974285\n",
            "epoch39 loss: 0.7174852314591408\n",
            "epoch39 loss: 0.7065630505234003\n",
            "epoch40 loss: 0.712566303089261\n",
            "epoch40 loss: 0.7090173213928938\n",
            "epoch41 loss: 0.710377542078495\n",
            "epoch41 loss: 0.7150034215301275\n",
            "epoch41 loss: 0.7094942186027765\n",
            "epoch42 loss: 0.7150447774678469\n",
            "epoch42 loss: 0.7073030811548233\n",
            "epoch43 loss: 0.7075079917907715\n",
            "epoch43 loss: 0.7135071085393428\n",
            "epoch43 loss: 0.7099708909541369\n",
            "epoch44 loss: 0.70697469830513\n",
            "epoch44 loss: 0.708890610486269\n",
            "epoch45 loss: 0.7080848388373852\n",
            "epoch45 loss: 0.7124124327301979\n",
            "epoch45 loss: 0.7115056937932969\n",
            "epoch46 loss: 0.7096814066916705\n",
            "epoch46 loss: 0.7133265102654696\n",
            "epoch47 loss: 0.7049444108456373\n",
            "epoch47 loss: 0.7056306690722703\n",
            "epoch47 loss: 0.7124633461982012\n",
            "epoch48 loss: 0.7136190219968558\n",
            "epoch48 loss: 0.7270779800415039\n",
            "epoch49 loss: 0.7165624736994505\n",
            "epoch49 loss: 0.7139695355296135\n",
            "epoch49 loss: 0.7106274788826704\n",
            "epoch50 loss: 0.7085527863353491\n",
            "epoch50 loss: 0.7055868599563837\n",
            "epoch51 loss: 0.7112728597223759\n",
            "epoch51 loss: 0.7136541175842285\n",
            "epoch51 loss: 0.7086030746996402\n",
            "epoch52 loss: 0.7076714523136616\n",
            "epoch52 loss: 0.7113359642028808\n",
            "epoch53 loss: 0.7131362434476614\n",
            "epoch53 loss: 0.7063171888887882\n",
            "epoch53 loss: 0.711111264154315\n",
            "epoch54 loss: 0.708631645962596\n",
            "epoch54 loss: 0.7056632903963327\n",
            "epoch55 loss: 0.7158426070958376\n",
            "epoch55 loss: 0.7041819404065609\n",
            "epoch55 loss: 0.7064360478520393\n",
            "epoch56 loss: 0.7076689629256725\n",
            "epoch56 loss: 0.7095663177222014\n",
            "epoch57 loss: 0.7135428234934806\n",
            "epoch57 loss: 0.7069428696483374\n",
            "epoch57 loss: 0.7032738065719605\n",
            "epoch58 loss: 0.705703203752637\n",
            "epoch58 loss: 0.7085799717903137\n",
            "epoch59 loss: 0.712478770390153\n",
            "epoch59 loss: 0.7174515486508608\n",
            "epoch59 loss: 0.7087826333194971\n",
            "epoch60 loss: 0.7040786743164062\n",
            "epoch60 loss: 0.702984077706933\n",
            "epoch61 loss: 0.7093259761482478\n",
            "epoch61 loss: 0.7117855280637742\n",
            "epoch61 loss: 0.7130604569613933\n",
            "epoch62 loss: 0.7132563769817353\n",
            "epoch62 loss: 0.7077994813770055\n",
            "epoch63 loss: 0.7106913600116969\n",
            "epoch63 loss: 0.7040502987802029\n",
            "epoch63 loss: 0.702942387610674\n",
            "epoch64 loss: 0.7116185788065195\n",
            "epoch64 loss: 0.7120016939938069\n",
            "epoch65 loss: 0.7080309096723795\n",
            "epoch65 loss: 0.7059676372259855\n",
            "epoch65 loss: 0.7098185583949089\n",
            "epoch66 loss: 0.709758143723011\n",
            "epoch66 loss: 0.7061851464211941\n",
            "epoch67 loss: 0.7096205280721187\n",
            "epoch67 loss: 0.7143837111443281\n",
            "epoch67 loss: 0.7125325658172369\n",
            "epoch68 loss: 0.7088484451919794\n",
            "epoch68 loss: 0.7088010290265083\n",
            "epoch69 loss: 0.7158248622715473\n",
            "epoch69 loss: 0.7102194754779338\n",
            "epoch69 loss: 0.7109726719558239\n",
            "epoch70 loss: 0.7144879863411188\n",
            "epoch70 loss: 0.7083374940603971\n",
            "epoch71 loss: 0.7101813440024852\n",
            "epoch71 loss: 0.7011931784451008\n",
            "epoch71 loss: 0.7081548212468625\n",
            "epoch72 loss: 0.7091774037480354\n",
            "epoch72 loss: 0.7104263351857663\n",
            "epoch73 loss: 0.7085645532608033\n",
            "epoch73 loss: 0.7065637213736773\n",
            "epoch73 loss: 0.7122617032378912\n",
            "epoch74 loss: 0.7063130649924279\n",
            "epoch74 loss: 0.7170289677381515\n",
            "epoch75 loss: 0.7084319725632667\n",
            "epoch75 loss: 0.7109456803649664\n",
            "epoch75 loss: 0.7071929785609246\n",
            "epoch76 loss: 0.7099892763793468\n",
            "epoch76 loss: 0.7064551119506359\n",
            "epoch77 loss: 0.7108267510682345\n",
            "epoch77 loss: 0.7109367843717337\n",
            "epoch77 loss: 0.7080410663038492\n",
            "epoch78 loss: 0.7105158580094576\n",
            "epoch78 loss: 0.7065227221697569\n",
            "epoch79 loss: 0.7130996879935264\n",
            "epoch79 loss: 0.7108159416168928\n",
            "epoch79 loss: 0.7094137965142727\n",
            "epoch80 loss: 0.7097462899237871\n",
            "epoch80 loss: 0.7140089665353299\n",
            "epoch81 loss: 0.7109716066718101\n",
            "epoch81 loss: 0.7071994005888701\n",
            "epoch81 loss: 0.7126306516677141\n",
            "epoch82 loss: 0.7118442618101836\n",
            "epoch82 loss: 0.702717830017209\n",
            "epoch83 loss: 0.7047702600061894\n",
            "epoch83 loss: 0.712405211776495\n",
            "epoch83 loss: 0.7102484204620123\n",
            "epoch84 loss: 0.7171571784466505\n",
            "epoch84 loss: 0.7121918316930532\n",
            "epoch85 loss: 0.7166744014620781\n",
            "epoch85 loss: 0.7051426604390144\n",
            "epoch85 loss: 0.7118155183643102\n",
            "epoch86 loss: 0.7119266680628061\n",
            "epoch86 loss: 0.7103471527993679\n",
            "epoch87 loss: 0.7089511799067258\n",
            "epoch87 loss: 0.7062395621091128\n",
            "epoch87 loss: 0.7088187098503113\n",
            "epoch88 loss: 0.7156633087992668\n",
            "epoch88 loss: 0.7074875668436289\n",
            "epoch89 loss: 0.7083944269269705\n",
            "epoch89 loss: 0.7091663382947445\n",
            "epoch89 loss: 0.7041019488871098\n",
            "epoch90 loss: 0.7083929182589054\n",
            "epoch90 loss: 0.7085702110081911\n",
            "epoch91 loss: 0.7133923457562923\n",
            "epoch91 loss: 0.7103677394241095\n",
            "epoch91 loss: 0.7172911728918553\n",
            "epoch92 loss: 0.7146250114589929\n",
            "epoch92 loss: 0.7100445669144392\n",
            "epoch93 loss: 0.7050193375349045\n",
            "epoch93 loss: 0.707011007592082\n",
            "epoch93 loss: 0.7174446853995323\n",
            "epoch94 loss: 0.7164503065496683\n",
            "epoch94 loss: 0.7133323176205159\n",
            "epoch95 loss: 0.7095103465020657\n",
            "epoch95 loss: 0.7061284001916647\n",
            "epoch95 loss: 0.7068659025430679\n",
            "epoch96 loss: 0.7140568343549967\n",
            "epoch96 loss: 0.7070544725656509\n",
            "epoch97 loss: 0.7069976364821196\n",
            "epoch97 loss: 0.7091643675416708\n",
            "epoch97 loss: 0.7112103465944528\n",
            "epoch98 loss: 0.7110875575989485\n",
            "epoch98 loss: 0.707162429690361\n",
            "epoch99 loss: 0.7076936888694764\n",
            "epoch99 loss: 0.7045875729620457\n",
            "epoch99 loss: 0.710575937628746\n",
            "epoch100 loss: 0.7097778626531362\n",
            "epoch100 loss: 0.705544866323471\n"
          ],
          "name": "stdout"
        },
        {
          "output_type": "stream",
          "text": [
            "/usr/local/lib/python3.6/dist-packages/ipykernel_launcher.py:25: UserWarning: Implicit dimension choice for softmax has been deprecated. Change the call to include dim=X as an argument.\n",
            "/usr/local/lib/python3.6/dist-packages/ipykernel_launcher.py:25: UserWarning: Implicit dimension choice for softmax has been deprecated. Change the call to include dim=X as an argument.\n",
            "/usr/local/lib/python3.6/dist-packages/ipykernel_launcher.py:25: UserWarning: Implicit dimension choice for softmax has been deprecated. Change the call to include dim=X as an argument.\n",
            "/usr/local/lib/python3.6/dist-packages/ipykernel_launcher.py:25: UserWarning: Implicit dimension choice for softmax has been deprecated. Change the call to include dim=X as an argument.\n",
            "/usr/local/lib/python3.6/dist-packages/ipykernel_launcher.py:25: UserWarning: Implicit dimension choice for softmax has been deprecated. Change the call to include dim=X as an argument.\n",
            "/usr/local/lib/python3.6/dist-packages/ipykernel_launcher.py:25: UserWarning: Implicit dimension choice for softmax has been deprecated. Change the call to include dim=X as an argument.\n",
            "/usr/local/lib/python3.6/dist-packages/ipykernel_launcher.py:25: UserWarning: Implicit dimension choice for softmax has been deprecated. Change the call to include dim=X as an argument.\n",
            "/usr/local/lib/python3.6/dist-packages/ipykernel_launcher.py:25: UserWarning: Implicit dimension choice for softmax has been deprecated. Change the call to include dim=X as an argument.\n",
            "/usr/local/lib/python3.6/dist-packages/ipykernel_launcher.py:25: UserWarning: Implicit dimension choice for softmax has been deprecated. Change the call to include dim=X as an argument.\n",
            "/usr/local/lib/python3.6/dist-packages/ipykernel_launcher.py:25: UserWarning: Implicit dimension choice for softmax has been deprecated. Change the call to include dim=X as an argument.\n",
            "/usr/local/lib/python3.6/dist-packages/ipykernel_launcher.py:25: UserWarning: Implicit dimension choice for softmax has been deprecated. Change the call to include dim=X as an argument.\n",
            "/usr/local/lib/python3.6/dist-packages/ipykernel_launcher.py:25: UserWarning: Implicit dimension choice for softmax has been deprecated. Change the call to include dim=X as an argument.\n",
            "/usr/local/lib/python3.6/dist-packages/ipykernel_launcher.py:25: UserWarning: Implicit dimension choice for softmax has been deprecated. Change the call to include dim=X as an argument.\n",
            "/usr/local/lib/python3.6/dist-packages/ipykernel_launcher.py:25: UserWarning: Implicit dimension choice for softmax has been deprecated. Change the call to include dim=X as an argument.\n"
          ],
          "name": "stderr"
        },
        {
          "output_type": "stream",
          "text": [
            "accuracy: 0.5385\n",
            "average loss: 0.7199745178222656\n"
          ],
          "name": "stdout"
        },
        {
          "output_type": "stream",
          "text": [
            "/usr/local/lib/python3.6/dist-packages/ipykernel_launcher.py:25: UserWarning: Implicit dimension choice for softmax has been deprecated. Change the call to include dim=X as an argument.\n",
            "/usr/local/lib/python3.6/dist-packages/ipykernel_launcher.py:25: UserWarning: Implicit dimension choice for softmax has been deprecated. Change the call to include dim=X as an argument.\n",
            "/usr/local/lib/python3.6/dist-packages/ipykernel_launcher.py:25: UserWarning: Implicit dimension choice for softmax has been deprecated. Change the call to include dim=X as an argument.\n",
            "/usr/local/lib/python3.6/dist-packages/ipykernel_launcher.py:25: UserWarning: Implicit dimension choice for softmax has been deprecated. Change the call to include dim=X as an argument.\n",
            "/usr/local/lib/python3.6/dist-packages/ipykernel_launcher.py:25: UserWarning: Implicit dimension choice for softmax has been deprecated. Change the call to include dim=X as an argument.\n"
          ],
          "name": "stderr"
        },
        {
          "output_type": "execute_result",
          "data": {
            "text/plain": [
              "0.5385"
            ]
          },
          "metadata": {
            "tags": []
          },
          "execution_count": 51
        }
      ]
    },
    {
      "cell_type": "code",
      "metadata": {
        "colab": {
          "base_uri": "https://localhost:8080/"
        },
        "id": "gUlJ-a1X1wpi",
        "outputId": "131205ab-5ba2-4e83-9b48-e74a6639a97c"
      },
      "source": [
        "acc_list"
      ],
      "execution_count": null,
      "outputs": [
        {
          "output_type": "execute_result",
          "data": {
            "text/plain": [
              "[0.49999999999999994,\n",
              " 0.5001000000000001,\n",
              " 0.49750000000000005,\n",
              " 0.5011000000000001,\n",
              " 0.5005,\n",
              " 0.49670000000000014,\n",
              " 0.5094999999999998,\n",
              " 0.5358999999999998,\n",
              " 0.54625,\n",
              " 0.5681499999999998,\n",
              " 0.5637000000000001,\n",
              " 0.5739000000000002,\n",
              " 0.5784999999999997,\n",
              " 0.5787499999999998,\n",
              " 0.5795500000000002,\n",
              " 0.58805,\n",
              " 0.5853999999999999,\n",
              " 0.5878,\n",
              " 0.5929499999999998,\n",
              " 0.5859,\n",
              " 0.5969500000000002,\n",
              " 0.6011500000000002,\n",
              " 0.5999999999999998,\n",
              " 0.5629500000000001,\n",
              " 0.5999999999999999,\n",
              " 0.5986,\n",
              " 0.5931500000000001,\n",
              " 0.5977,\n",
              " 0.5999499999999998,\n",
              " 0.6047500000000001,\n",
              " 0.5988500000000002,\n",
              " 0.6048499999999999,\n",
              " 0.6035500000000003,\n",
              " 0.6069999999999995,\n",
              " 0.6096000000000003,\n",
              " 0.6077999999999998,\n",
              " 0.6019000000000002,\n",
              " 0.6010499999999999,\n",
              " 0.6036000000000002,\n",
              " 0.6067499999999999,\n",
              " 0.6111500000000002,\n",
              " 0.59915,\n",
              " 0.6076,\n",
              " 0.6048499999999999,\n",
              " 0.6083000000000003,\n",
              " 0.6113999999999999,\n",
              " 0.6098999999999999,\n",
              " 0.5705500000000001,\n",
              " 0.5674000000000006,\n",
              " 0.6063500000000002,\n",
              " 0.6104499999999997,\n",
              " 0.5842,\n",
              " 0.6046999999999998,\n",
              " 0.6102500000000002,\n",
              " 0.6046,\n",
              " 0.6005500000000004,\n",
              " 0.6068499999999998,\n",
              " 0.6085,\n",
              " 0.6081500000000003,\n",
              " 0.6103500000000002,\n",
              " 0.5942,\n",
              " 0.6040999999999997,\n",
              " 0.6087499999999999,\n",
              " 0.6123500000000002,\n",
              " 0.6099,\n",
              " 0.609,\n",
              " 0.6072999999999997,\n",
              " 0.6092499999999998,\n",
              " 0.61285,\n",
              " 0.6092500000000001,\n",
              " 0.6093000000000003,\n",
              " 0.6068000000000001,\n",
              " 0.6079000000000003,\n",
              " 0.6097000000000002,\n",
              " 0.6112499999999997,\n",
              " 0.6089499999999998,\n",
              " 0.6099999999999997,\n",
              " 0.6092,\n",
              " 0.6115499999999998,\n",
              " 0.6107999999999998,\n",
              " 0.61265,\n",
              " 0.6102000000000001,\n",
              " 0.6114500000000003,\n",
              " 0.6122500000000002,\n",
              " 0.6115000000000002,\n",
              " 0.6143500000000001,\n",
              " 0.6053500000000003,\n",
              " 0.61175,\n",
              " 0.60925,\n",
              " 0.6110499999999996,\n",
              " 0.6102500000000002,\n",
              " 0.6135,\n",
              " 0.6136000000000001,\n",
              " 0.6107500000000001,\n",
              " 0.6120999999999999,\n",
              " 0.6110499999999999,\n",
              " 0.6105499999999999,\n",
              " 0.61415,\n",
              " 0.6136500000000001,\n",
              " 0.6129500000000001]"
            ]
          },
          "metadata": {
            "tags": []
          },
          "execution_count": 52
        }
      ]
    },
    {
      "cell_type": "code",
      "metadata": {
        "colab": {
          "base_uri": "https://localhost:8080/",
          "height": 297
        },
        "id": "kdgF57ii5nHl",
        "outputId": "4f2a28de-7f51-4b56-9a1b-22aa160e095c"
      },
      "source": [
        "def visualize_acc(acc_list):\n",
        "  epochs = list(range(1, len(acc_list)+1))\n",
        "  plt.plot(epochs, acc_list)\n",
        "  plt.suptitle(\"Plot of train accuracy over number of epochs\")\n",
        "visualize_acc(acc_list)"
      ],
      "execution_count": null,
      "outputs": [
        {
          "output_type": "display_data",
          "data": {
            "image/png": "[encoded data removed]",
            "text/plain": [
              "<Figure size 432x288 with 1 Axes>"
            ]
          },
          "metadata": {
            "tags": [],
            "needs_background": "light"
          }
        }
      ]
    },
    {
      "cell_type": "markdown",
      "metadata": {
        "id": "DmgBBM6_Evs9"
      },
      "source": [
        "#citation\n",
        "\n",
        "Aneesha Bakharia, \"Using TSNE to Plot a Subset of Similar Words from Word2Vec\", November 27, 2017\n",
        "\n",
        "https://medium.com/@aneesha/using-tsne-to-plot-a-subset-of-similar-words-from-word2vec-bb8eeaea6229\n",
        "\n",
        "Aravind Pai, \"Build Your First Text Classification Model Using Pytorch\", January 28, 2020\n",
        "\n",
        "https://www.analyticsvidhya.com/blog/2020/01/first-text-classification-in-pytorch/\n",
        "\n",
        "Gal Hever, \"Semtiment Analysis with Pytorch\", April 11, 2020\n",
        "\n",
        "https://medium.com/@galhever/sentiment-analysis-with-pytorch-part-4-lstm-bilstm-model-84447f6c4525\n",
        "\n",
        "The App Solutions, \"Why Business Applies Sentiment Analysis?\"\n",
        "\n",
        "https://theappsolutions.com/blog/development/sentiment-analysis-for-business/\n",
        "\n",
        "Usman Malik, \"Time Series Prediction using LSTM with PyTorch in Python\"\n",
        "\n",
        "https://stackabuse.com/time-series-prediction-using-lstm-with-pytorch-in-python/\n",
        "\n",
        "Wenhu Chen, Yu Su, Yilin Shen, Zhiyu Chen, Xifeng Yan, William Wang, *How Large a Vocabulary Does Text Classification Need? A Variational Approach to Vocabulary Selection*, University of California, Santa Barbara, Ohio State University, Samsung Research, June 2019\n",
        "\n",
        "https://www.aclweb.org/anthology/N19-1352.pdf"
      ]
    }
  ]
}